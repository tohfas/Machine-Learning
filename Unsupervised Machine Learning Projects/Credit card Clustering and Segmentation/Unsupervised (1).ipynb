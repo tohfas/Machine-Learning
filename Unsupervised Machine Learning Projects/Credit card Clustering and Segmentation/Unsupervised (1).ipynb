{
 "cells": [
  {
   "cell_type": "code",
   "execution_count": 23,
   "metadata": {},
   "outputs": [],
   "source": [
    "import pandas as pd\n",
    "import numpy as np\n",
    "\n",
    "#Date stuff\n",
    "from datetime import datetime\n",
    "from datetime import timedelta\n",
    "\n",
    "#Library for Nice graphing\n",
    "import seaborn as sns\n",
    "import matplotlib.pyplot as plt\n",
    "import statsmodels.formula.api as sn\n",
    "%matplotlib inline\n",
    "\n",
    "#Library for statistics operation\n",
    "import scipy.stats as stats\n",
    "\n",
    "# Date Time library\n",
    "from datetime import datetime\n",
    "\n",
    "#Machine learning Library\n",
    "import statsmodels.api as sm\n",
    "from sklearn import metrics\n",
    "\n",
    "from sklearn.linear_model import LinearRegression\n",
    "from sklearn.ensemble import RandomForestRegressor\n",
    "from sklearn.tree import DecisionTreeRegressor\n",
    "from sklearn.ensemble import AdaBoostRegressor\n",
    "from sklearn.ensemble import GradientBoostingRegressor\n",
    "from sklearn.svm import SVC, LinearSVC\n",
    "from sklearn.metrics import mean_squared_error as mse\n",
    "from sklearn.metrics import mean_absolute_error, mean_squared_error\n",
    "\n",
    "# Ignore warnings\n",
    "import warnings\n",
    "warnings.filterwarnings('ignore')"
   ]
  },
  {
   "cell_type": "code",
   "execution_count": 24,
   "metadata": {},
   "outputs": [],
   "source": [
    "#1. Preprocessing the data (15 points)\n",
    "# a. Check a few observations and get familiar with the data. (1 points)\n",
    "\n",
    "df = pd.read_csv(\"C:/Users/user/Downloads/data_credit_card.csv\")"
   ]
  },
  {
   "cell_type": "code",
   "execution_count": 25,
   "metadata": {},
   "outputs": [
    {
     "data": {
      "text/html": [
       "<div>\n",
       "<style scoped>\n",
       "    .dataframe tbody tr th:only-of-type {\n",
       "        vertical-align: middle;\n",
       "    }\n",
       "\n",
       "    .dataframe tbody tr th {\n",
       "        vertical-align: top;\n",
       "    }\n",
       "\n",
       "    .dataframe thead th {\n",
       "        text-align: right;\n",
       "    }\n",
       "</style>\n",
       "<table border=\"1\" class=\"dataframe\">\n",
       "  <thead>\n",
       "    <tr style=\"text-align: right;\">\n",
       "      <th></th>\n",
       "      <th>CUST_ID</th>\n",
       "      <th>BALANCE</th>\n",
       "      <th>BALANCE_FREQUENCY</th>\n",
       "      <th>PURCHASES</th>\n",
       "      <th>ONEOFF_PURCHASES</th>\n",
       "      <th>INSTALLMENTS_PURCHASES</th>\n",
       "      <th>CASH_ADVANCE</th>\n",
       "      <th>PURCHASES_FREQUENCY</th>\n",
       "      <th>ONEOFF_PURCHASES_FREQUENCY</th>\n",
       "      <th>PURCHASES_INSTALLMENTS_FREQUENCY</th>\n",
       "      <th>CASH_ADVANCE_FREQUENCY</th>\n",
       "      <th>CASH_ADVANCE_TRX</th>\n",
       "      <th>PURCHASES_TRX</th>\n",
       "      <th>CREDIT_LIMIT</th>\n",
       "      <th>PAYMENTS</th>\n",
       "      <th>MINIMUM_PAYMENTS</th>\n",
       "      <th>PRC_FULL_PAYMENT</th>\n",
       "      <th>TENURE</th>\n",
       "    </tr>\n",
       "  </thead>\n",
       "  <tbody>\n",
       "    <tr>\n",
       "      <th>0</th>\n",
       "      <td>C10001</td>\n",
       "      <td>40.900749</td>\n",
       "      <td>0.818182</td>\n",
       "      <td>95.40</td>\n",
       "      <td>0.00</td>\n",
       "      <td>95.4</td>\n",
       "      <td>0.000000</td>\n",
       "      <td>0.166667</td>\n",
       "      <td>0.0</td>\n",
       "      <td>0.083333</td>\n",
       "      <td>0.00</td>\n",
       "      <td>0</td>\n",
       "      <td>2</td>\n",
       "      <td>1000.0</td>\n",
       "      <td>201.802084</td>\n",
       "      <td>139.509787</td>\n",
       "      <td>0.000000</td>\n",
       "      <td>12</td>\n",
       "    </tr>\n",
       "    <tr>\n",
       "      <th>1</th>\n",
       "      <td>C10002</td>\n",
       "      <td>3202.467416</td>\n",
       "      <td>0.909091</td>\n",
       "      <td>0.00</td>\n",
       "      <td>0.00</td>\n",
       "      <td>0.0</td>\n",
       "      <td>6442.945483</td>\n",
       "      <td>0.000000</td>\n",
       "      <td>0.0</td>\n",
       "      <td>0.000000</td>\n",
       "      <td>0.25</td>\n",
       "      <td>4</td>\n",
       "      <td>0</td>\n",
       "      <td>7000.0</td>\n",
       "      <td>4103.032597</td>\n",
       "      <td>1072.340217</td>\n",
       "      <td>0.222222</td>\n",
       "      <td>12</td>\n",
       "    </tr>\n",
       "    <tr>\n",
       "      <th>2</th>\n",
       "      <td>C10003</td>\n",
       "      <td>2495.148862</td>\n",
       "      <td>1.000000</td>\n",
       "      <td>773.17</td>\n",
       "      <td>773.17</td>\n",
       "      <td>0.0</td>\n",
       "      <td>0.000000</td>\n",
       "      <td>1.000000</td>\n",
       "      <td>1.0</td>\n",
       "      <td>0.000000</td>\n",
       "      <td>0.00</td>\n",
       "      <td>0</td>\n",
       "      <td>12</td>\n",
       "      <td>7500.0</td>\n",
       "      <td>622.066742</td>\n",
       "      <td>627.284787</td>\n",
       "      <td>0.000000</td>\n",
       "      <td>12</td>\n",
       "    </tr>\n",
       "  </tbody>\n",
       "</table>\n",
       "</div>"
      ],
      "text/plain": [
       "  CUST_ID      BALANCE  BALANCE_FREQUENCY  PURCHASES  ONEOFF_PURCHASES  \\\n",
       "0  C10001    40.900749           0.818182      95.40              0.00   \n",
       "1  C10002  3202.467416           0.909091       0.00              0.00   \n",
       "2  C10003  2495.148862           1.000000     773.17            773.17   \n",
       "\n",
       "   INSTALLMENTS_PURCHASES  CASH_ADVANCE  PURCHASES_FREQUENCY  \\\n",
       "0                    95.4      0.000000             0.166667   \n",
       "1                     0.0   6442.945483             0.000000   \n",
       "2                     0.0      0.000000             1.000000   \n",
       "\n",
       "   ONEOFF_PURCHASES_FREQUENCY  PURCHASES_INSTALLMENTS_FREQUENCY  \\\n",
       "0                         0.0                          0.083333   \n",
       "1                         0.0                          0.000000   \n",
       "2                         1.0                          0.000000   \n",
       "\n",
       "   CASH_ADVANCE_FREQUENCY  CASH_ADVANCE_TRX  PURCHASES_TRX  CREDIT_LIMIT  \\\n",
       "0                    0.00                 0              2        1000.0   \n",
       "1                    0.25                 4              0        7000.0   \n",
       "2                    0.00                 0             12        7500.0   \n",
       "\n",
       "      PAYMENTS  MINIMUM_PAYMENTS  PRC_FULL_PAYMENT  TENURE  \n",
       "0   201.802084        139.509787          0.000000      12  \n",
       "1  4103.032597       1072.340217          0.222222      12  \n",
       "2   622.066742        627.284787          0.000000      12  "
      ]
     },
     "execution_count": 25,
     "metadata": {},
     "output_type": "execute_result"
    }
   ],
   "source": [
    "df.head(3)"
   ]
  },
  {
   "cell_type": "code",
   "execution_count": 26,
   "metadata": {},
   "outputs": [
    {
     "name": "stdout",
     "output_type": "stream",
     "text": [
      "<class 'pandas.core.frame.DataFrame'>\n",
      "RangeIndex: 8950 entries, 0 to 8949\n",
      "Data columns (total 18 columns):\n",
      " #   Column                            Non-Null Count  Dtype  \n",
      "---  ------                            --------------  -----  \n",
      " 0   CUST_ID                           8950 non-null   object \n",
      " 1   BALANCE                           8950 non-null   float64\n",
      " 2   BALANCE_FREQUENCY                 8950 non-null   float64\n",
      " 3   PURCHASES                         8950 non-null   float64\n",
      " 4   ONEOFF_PURCHASES                  8950 non-null   float64\n",
      " 5   INSTALLMENTS_PURCHASES            8950 non-null   float64\n",
      " 6   CASH_ADVANCE                      8950 non-null   float64\n",
      " 7   PURCHASES_FREQUENCY               8950 non-null   float64\n",
      " 8   ONEOFF_PURCHASES_FREQUENCY        8950 non-null   float64\n",
      " 9   PURCHASES_INSTALLMENTS_FREQUENCY  8950 non-null   float64\n",
      " 10  CASH_ADVANCE_FREQUENCY            8950 non-null   float64\n",
      " 11  CASH_ADVANCE_TRX                  8950 non-null   int64  \n",
      " 12  PURCHASES_TRX                     8950 non-null   int64  \n",
      " 13  CREDIT_LIMIT                      8949 non-null   float64\n",
      " 14  PAYMENTS                          8950 non-null   float64\n",
      " 15  MINIMUM_PAYMENTS                  8637 non-null   float64\n",
      " 16  PRC_FULL_PAYMENT                  8950 non-null   float64\n",
      " 17  TENURE                            8950 non-null   int64  \n",
      "dtypes: float64(14), int64(3), object(1)\n",
      "memory usage: 1.2+ MB\n"
     ]
    }
   ],
   "source": [
    "#b. Check the size and info of the data set. (2 points)\n",
    "df.info()"
   ]
  },
  {
   "cell_type": "code",
   "execution_count": 12,
   "metadata": {},
   "outputs": [
    {
     "data": {
      "text/plain": [
       "(8950, 18)"
      ]
     },
     "execution_count": 12,
     "metadata": {},
     "output_type": "execute_result"
    }
   ],
   "source": [
    "df.shape"
   ]
  },
  {
   "cell_type": "code",
   "execution_count": 15,
   "metadata": {},
   "outputs": [
    {
     "data": {
      "text/plain": [
       "314"
      ]
     },
     "execution_count": 15,
     "metadata": {},
     "output_type": "execute_result"
    }
   ],
   "source": [
    "#c. Check for missing values. Impute the missing values if there is any. (2 points)\n",
    "df.isnull().sum().values.sum()"
   ]
  },
  {
   "cell_type": "code",
   "execution_count": 19,
   "metadata": {},
   "outputs": [
    {
     "data": {
      "text/plain": [
       "CUST_ID                             False\n",
       "BALANCE                             False\n",
       "BALANCE_FREQUENCY                   False\n",
       "PURCHASES                           False\n",
       "ONEOFF_PURCHASES                    False\n",
       "INSTALLMENTS_PURCHASES              False\n",
       "CASH_ADVANCE                        False\n",
       "PURCHASES_FREQUENCY                 False\n",
       "ONEOFF_PURCHASES_FREQUENCY          False\n",
       "PURCHASES_INSTALLMENTS_FREQUENCY    False\n",
       "CASH_ADVANCE_FREQUENCY              False\n",
       "CASH_ADVANCE_TRX                    False\n",
       "PURCHASES_TRX                       False\n",
       "CREDIT_LIMIT                         True\n",
       "PAYMENTS                            False\n",
       "MINIMUM_PAYMENTS                     True\n",
       "PRC_FULL_PAYMENT                    False\n",
       "TENURE                              False\n",
       "dtype: bool"
      ]
     },
     "execution_count": 19,
     "metadata": {},
     "output_type": "execute_result"
    }
   ],
   "source": [
    "#Since there are missing values in the data so we are imputing them with median\n",
    "df.isnull().any()"
   ]
  },
  {
   "cell_type": "code",
   "execution_count": 20,
   "metadata": {},
   "outputs": [],
   "source": [
    "# CREDIT_LIMIT  and MINIMUM_PAYMENTS has missing values so we need to remove with median.\n",
    "\n",
    "df['CREDIT_LIMIT'].fillna(df['CREDIT_LIMIT'].median(),inplace=True)\n",
    "\n",
    "df['CREDIT_LIMIT'].count()\n",
    "\n",
    "\n",
    "df['MINIMUM_PAYMENTS'].median()\n",
    "df['MINIMUM_PAYMENTS'].fillna(df['MINIMUM_PAYMENTS'].median(),inplace=True)"
   ]
  },
  {
   "cell_type": "code",
   "execution_count": 21,
   "metadata": {},
   "outputs": [
    {
     "data": {
      "text/plain": [
       "CUST_ID                             False\n",
       "BALANCE                             False\n",
       "BALANCE_FREQUENCY                   False\n",
       "PURCHASES                           False\n",
       "ONEOFF_PURCHASES                    False\n",
       "INSTALLMENTS_PURCHASES              False\n",
       "CASH_ADVANCE                        False\n",
       "PURCHASES_FREQUENCY                 False\n",
       "ONEOFF_PURCHASES_FREQUENCY          False\n",
       "PURCHASES_INSTALLMENTS_FREQUENCY    False\n",
       "CASH_ADVANCE_FREQUENCY              False\n",
       "CASH_ADVANCE_TRX                    False\n",
       "PURCHASES_TRX                       False\n",
       "CREDIT_LIMIT                        False\n",
       "PAYMENTS                            False\n",
       "MINIMUM_PAYMENTS                    False\n",
       "PRC_FULL_PAYMENT                    False\n",
       "TENURE                              False\n",
       "dtype: bool"
      ]
     },
     "execution_count": 21,
     "metadata": {},
     "output_type": "execute_result"
    }
   ],
   "source": [
    "# Now again check the missing values.\n",
    "\n",
    "df.isnull().any()"
   ]
  },
  {
   "cell_type": "code",
   "execution_count": 22,
   "metadata": {},
   "outputs": [
    {
     "data": {
      "text/plain": [
       "0"
      ]
     },
     "execution_count": 22,
     "metadata": {},
     "output_type": "execute_result"
    }
   ],
   "source": [
    "df.isnull().sum().values.sum()"
   ]
  },
  {
   "cell_type": "code",
   "execution_count": 27,
   "metadata": {},
   "outputs": [
    {
     "data": {
      "text/html": [
       "<div>\n",
       "<style scoped>\n",
       "    .dataframe tbody tr th:only-of-type {\n",
       "        vertical-align: middle;\n",
       "    }\n",
       "\n",
       "    .dataframe tbody tr th {\n",
       "        vertical-align: top;\n",
       "    }\n",
       "\n",
       "    .dataframe thead th {\n",
       "        text-align: right;\n",
       "    }\n",
       "</style>\n",
       "<table border=\"1\" class=\"dataframe\">\n",
       "  <thead>\n",
       "    <tr style=\"text-align: right;\">\n",
       "      <th></th>\n",
       "      <th>BALANCE</th>\n",
       "      <th>BALANCE_FREQUENCY</th>\n",
       "      <th>PURCHASES</th>\n",
       "      <th>ONEOFF_PURCHASES</th>\n",
       "      <th>INSTALLMENTS_PURCHASES</th>\n",
       "      <th>CASH_ADVANCE</th>\n",
       "      <th>PURCHASES_FREQUENCY</th>\n",
       "      <th>ONEOFF_PURCHASES_FREQUENCY</th>\n",
       "      <th>PURCHASES_INSTALLMENTS_FREQUENCY</th>\n",
       "      <th>CASH_ADVANCE_FREQUENCY</th>\n",
       "      <th>CASH_ADVANCE_TRX</th>\n",
       "      <th>PURCHASES_TRX</th>\n",
       "      <th>CREDIT_LIMIT</th>\n",
       "      <th>PAYMENTS</th>\n",
       "      <th>MINIMUM_PAYMENTS</th>\n",
       "      <th>PRC_FULL_PAYMENT</th>\n",
       "    </tr>\n",
       "  </thead>\n",
       "  <tbody>\n",
       "    <tr>\n",
       "      <th>5083</th>\n",
       "      <td>1908.569743</td>\n",
       "      <td>1.000000</td>\n",
       "      <td>0.00</td>\n",
       "      <td>0.00</td>\n",
       "      <td>0.00</td>\n",
       "      <td>4604.425401</td>\n",
       "      <td>0.000000</td>\n",
       "      <td>0.000000</td>\n",
       "      <td>0.000000</td>\n",
       "      <td>0.416667</td>\n",
       "      <td>6</td>\n",
       "      <td>0</td>\n",
       "      <td>5400.0</td>\n",
       "      <td>2118.553043</td>\n",
       "      <td>471.692662</td>\n",
       "      <td>0.0</td>\n",
       "    </tr>\n",
       "    <tr>\n",
       "      <th>6804</th>\n",
       "      <td>255.851136</td>\n",
       "      <td>0.909091</td>\n",
       "      <td>311.80</td>\n",
       "      <td>0.00</td>\n",
       "      <td>311.80</td>\n",
       "      <td>0.000000</td>\n",
       "      <td>0.666667</td>\n",
       "      <td>0.000000</td>\n",
       "      <td>0.666667</td>\n",
       "      <td>0.000000</td>\n",
       "      <td>0</td>\n",
       "      <td>8</td>\n",
       "      <td>2500.0</td>\n",
       "      <td>709.240603</td>\n",
       "      <td>2703.147477</td>\n",
       "      <td>0.0</td>\n",
       "    </tr>\n",
       "    <tr>\n",
       "      <th>7298</th>\n",
       "      <td>978.771066</td>\n",
       "      <td>1.000000</td>\n",
       "      <td>905.04</td>\n",
       "      <td>545.12</td>\n",
       "      <td>359.92</td>\n",
       "      <td>0.000000</td>\n",
       "      <td>0.666667</td>\n",
       "      <td>0.166667</td>\n",
       "      <td>0.666667</td>\n",
       "      <td>0.000000</td>\n",
       "      <td>0</td>\n",
       "      <td>20</td>\n",
       "      <td>4000.0</td>\n",
       "      <td>392.482391</td>\n",
       "      <td>315.469998</td>\n",
       "      <td>0.0</td>\n",
       "    </tr>\n",
       "    <tr>\n",
       "      <th>6615</th>\n",
       "      <td>1100.505764</td>\n",
       "      <td>1.000000</td>\n",
       "      <td>220.00</td>\n",
       "      <td>220.00</td>\n",
       "      <td>0.00</td>\n",
       "      <td>0.000000</td>\n",
       "      <td>0.166667</td>\n",
       "      <td>0.166667</td>\n",
       "      <td>0.000000</td>\n",
       "      <td>0.000000</td>\n",
       "      <td>0</td>\n",
       "      <td>2</td>\n",
       "      <td>1200.0</td>\n",
       "      <td>344.856423</td>\n",
       "      <td>623.734943</td>\n",
       "      <td>0.0</td>\n",
       "    </tr>\n",
       "    <tr>\n",
       "      <th>6448</th>\n",
       "      <td>1906.104266</td>\n",
       "      <td>1.000000</td>\n",
       "      <td>781.43</td>\n",
       "      <td>1.00</td>\n",
       "      <td>780.43</td>\n",
       "      <td>2097.271687</td>\n",
       "      <td>0.583333</td>\n",
       "      <td>0.083333</td>\n",
       "      <td>0.500000</td>\n",
       "      <td>0.166667</td>\n",
       "      <td>2</td>\n",
       "      <td>16</td>\n",
       "      <td>3400.0</td>\n",
       "      <td>495.427538</td>\n",
       "      <td>618.280632</td>\n",
       "      <td>0.0</td>\n",
       "    </tr>\n",
       "    <tr>\n",
       "      <th>3727</th>\n",
       "      <td>22.682781</td>\n",
       "      <td>0.272727</td>\n",
       "      <td>161.50</td>\n",
       "      <td>161.50</td>\n",
       "      <td>0.00</td>\n",
       "      <td>0.000000</td>\n",
       "      <td>0.083333</td>\n",
       "      <td>0.083333</td>\n",
       "      <td>0.000000</td>\n",
       "      <td>0.000000</td>\n",
       "      <td>0</td>\n",
       "      <td>1</td>\n",
       "      <td>2000.0</td>\n",
       "      <td>934.889414</td>\n",
       "      <td>81.670199</td>\n",
       "      <td>0.0</td>\n",
       "    </tr>\n",
       "    <tr>\n",
       "      <th>4298</th>\n",
       "      <td>5686.466725</td>\n",
       "      <td>0.909091</td>\n",
       "      <td>177.35</td>\n",
       "      <td>177.35</td>\n",
       "      <td>0.00</td>\n",
       "      <td>0.000000</td>\n",
       "      <td>0.090909</td>\n",
       "      <td>0.090909</td>\n",
       "      <td>0.000000</td>\n",
       "      <td>0.000000</td>\n",
       "      <td>0</td>\n",
       "      <td>1</td>\n",
       "      <td>8000.0</td>\n",
       "      <td>1775.784106</td>\n",
       "      <td>1724.337874</td>\n",
       "      <td>0.0</td>\n",
       "    </tr>\n",
       "  </tbody>\n",
       "</table>\n",
       "</div>"
      ],
      "text/plain": [
       "          BALANCE  BALANCE_FREQUENCY  PURCHASES  ONEOFF_PURCHASES  \\\n",
       "5083  1908.569743           1.000000       0.00              0.00   \n",
       "6804   255.851136           0.909091     311.80              0.00   \n",
       "7298   978.771066           1.000000     905.04            545.12   \n",
       "6615  1100.505764           1.000000     220.00            220.00   \n",
       "6448  1906.104266           1.000000     781.43              1.00   \n",
       "3727    22.682781           0.272727     161.50            161.50   \n",
       "4298  5686.466725           0.909091     177.35            177.35   \n",
       "\n",
       "      INSTALLMENTS_PURCHASES  CASH_ADVANCE  PURCHASES_FREQUENCY  \\\n",
       "5083                    0.00   4604.425401             0.000000   \n",
       "6804                  311.80      0.000000             0.666667   \n",
       "7298                  359.92      0.000000             0.666667   \n",
       "6615                    0.00      0.000000             0.166667   \n",
       "6448                  780.43   2097.271687             0.583333   \n",
       "3727                    0.00      0.000000             0.083333   \n",
       "4298                    0.00      0.000000             0.090909   \n",
       "\n",
       "      ONEOFF_PURCHASES_FREQUENCY  PURCHASES_INSTALLMENTS_FREQUENCY  \\\n",
       "5083                    0.000000                          0.000000   \n",
       "6804                    0.000000                          0.666667   \n",
       "7298                    0.166667                          0.666667   \n",
       "6615                    0.166667                          0.000000   \n",
       "6448                    0.083333                          0.500000   \n",
       "3727                    0.083333                          0.000000   \n",
       "4298                    0.090909                          0.000000   \n",
       "\n",
       "      CASH_ADVANCE_FREQUENCY  CASH_ADVANCE_TRX  PURCHASES_TRX  CREDIT_LIMIT  \\\n",
       "5083                0.416667                 6              0        5400.0   \n",
       "6804                0.000000                 0              8        2500.0   \n",
       "7298                0.000000                 0             20        4000.0   \n",
       "6615                0.000000                 0              2        1200.0   \n",
       "6448                0.166667                 2             16        3400.0   \n",
       "3727                0.000000                 0              1        2000.0   \n",
       "4298                0.000000                 0              1        8000.0   \n",
       "\n",
       "         PAYMENTS  MINIMUM_PAYMENTS  PRC_FULL_PAYMENT  \n",
       "5083  2118.553043        471.692662               0.0  \n",
       "6804   709.240603       2703.147477               0.0  \n",
       "7298   392.482391        315.469998               0.0  \n",
       "6615   344.856423        623.734943               0.0  \n",
       "6448   495.427538        618.280632               0.0  \n",
       "3727   934.889414         81.670199               0.0  \n",
       "4298  1775.784106       1724.337874               0.0  "
      ]
     },
     "execution_count": 27,
     "metadata": {},
     "output_type": "execute_result"
    }
   ],
   "source": [
    "#d. Drop unnecessary columns. (2 points)\n",
    "df = df.drop(columns=['CUST_ID','TENURE'])\n",
    "df.sample(7)"
   ]
  },
  {
   "cell_type": "code",
   "execution_count": 29,
   "metadata": {},
   "outputs": [
    {
     "data": {
      "text/plain": [
       "(8950, 16)"
      ]
     },
     "execution_count": 29,
     "metadata": {},
     "output_type": "execute_result"
    }
   ],
   "source": [
    "df.shape"
   ]
  },
  {
   "cell_type": "code",
   "execution_count": 105,
   "metadata": {},
   "outputs": [],
   "source": [
    "df_copy = df.copy()"
   ]
  },
  {
   "cell_type": "code",
   "execution_count": 106,
   "metadata": {},
   "outputs": [
    {
     "data": {
      "image/png": "[encoded data removed]",
      "text/plain": [
       "<Figure size 576x432 with 2 Axes>"
      ]
     },
     "metadata": {
      "needs_background": "light"
     },
     "output_type": "display_data"
    }
   ],
   "source": [
    "#e. Check correlation among features and comment your findings. (3 points)\n",
    "\n",
    "# Heatmap of the Pearson correlation between each pair of features\n",
    "plt.figure(figsize=(8,6))\n",
    "sns.heatmap(df.corr(), cmap='viridis', vmax=0.70) # I set vmax=0.7 to easily spot correlations greater than or close to 0.7\n",
    "plt.show()"
   ]
  },
  {
   "cell_type": "code",
   "execution_count": 107,
   "metadata": {},
   "outputs": [
    {
     "data": {
      "text/html": [
       "<div>\n",
       "<style scoped>\n",
       "    .dataframe tbody tr th:only-of-type {\n",
       "        vertical-align: middle;\n",
       "    }\n",
       "\n",
       "    .dataframe tbody tr th {\n",
       "        vertical-align: top;\n",
       "    }\n",
       "\n",
       "    .dataframe thead th {\n",
       "        text-align: right;\n",
       "    }\n",
       "</style>\n",
       "<table border=\"1\" class=\"dataframe\">\n",
       "  <thead>\n",
       "    <tr style=\"text-align: right;\">\n",
       "      <th></th>\n",
       "      <th>BALANCE</th>\n",
       "      <th>BALANCE_FREQUENCY</th>\n",
       "      <th>ONEOFF_PURCHASES</th>\n",
       "      <th>INSTALLMENTS_PURCHASES</th>\n",
       "      <th>CASH_ADVANCE</th>\n",
       "      <th>PURCHASES_FREQUENCY</th>\n",
       "      <th>ONEOFF_PURCHASES_FREQUENCY</th>\n",
       "      <th>CASH_ADVANCE_FREQUENCY</th>\n",
       "      <th>CASH_ADVANCE_TRX</th>\n",
       "      <th>PURCHASES_TRX</th>\n",
       "      <th>CREDIT_LIMIT</th>\n",
       "      <th>PAYMENTS</th>\n",
       "      <th>MINIMUM_PAYMENTS</th>\n",
       "      <th>PRC_FULL_PAYMENT</th>\n",
       "    </tr>\n",
       "  </thead>\n",
       "  <tbody>\n",
       "    <tr>\n",
       "      <th>BALANCE</th>\n",
       "      <td>1.000000</td>\n",
       "      <td>0.335099</td>\n",
       "      <td>-0.726181</td>\n",
       "      <td>-0.862287</td>\n",
       "      <td>0.941527</td>\n",
       "      <td>-0.945418</td>\n",
       "      <td>-0.850457</td>\n",
       "      <td>0.932492</td>\n",
       "      <td>0.920952</td>\n",
       "      <td>-0.874188</td>\n",
       "      <td>0.499228</td>\n",
       "      <td>0.138918</td>\n",
       "      <td>0.802166</td>\n",
       "      <td>-0.978921</td>\n",
       "    </tr>\n",
       "    <tr>\n",
       "      <th>BALANCE_FREQUENCY</th>\n",
       "      <td>0.335099</td>\n",
       "      <td>1.000000</td>\n",
       "      <td>-0.438818</td>\n",
       "      <td>-0.351411</td>\n",
       "      <td>0.202022</td>\n",
       "      <td>-0.202384</td>\n",
       "      <td>-0.268279</td>\n",
       "      <td>0.296975</td>\n",
       "      <td>0.262492</td>\n",
       "      <td>-0.301519</td>\n",
       "      <td>-0.267117</td>\n",
       "      <td>-0.584523</td>\n",
       "      <td>0.354786</td>\n",
       "      <td>-0.462415</td>\n",
       "    </tr>\n",
       "    <tr>\n",
       "      <th>ONEOFF_PURCHASES</th>\n",
       "      <td>-0.726181</td>\n",
       "      <td>-0.438818</td>\n",
       "      <td>1.000000</td>\n",
       "      <td>0.902171</td>\n",
       "      <td>-0.810610</td>\n",
       "      <td>0.805806</td>\n",
       "      <td>0.935029</td>\n",
       "      <td>-0.858226</td>\n",
       "      <td>-0.854575</td>\n",
       "      <td>0.928079</td>\n",
       "      <td>0.120586</td>\n",
       "      <td>0.457917</td>\n",
       "      <td>-0.664277</td>\n",
       "      <td>0.764285</td>\n",
       "    </tr>\n",
       "    <tr>\n",
       "      <th>INSTALLMENTS_PURCHASES</th>\n",
       "      <td>-0.862287</td>\n",
       "      <td>-0.351411</td>\n",
       "      <td>0.902171</td>\n",
       "      <td>1.000000</td>\n",
       "      <td>-0.940737</td>\n",
       "      <td>0.944332</td>\n",
       "      <td>0.916728</td>\n",
       "      <td>-0.964624</td>\n",
       "      <td>-0.961658</td>\n",
       "      <td>0.985264</td>\n",
       "      <td>-0.151506</td>\n",
       "      <td>0.157587</td>\n",
       "      <td>-0.649809</td>\n",
       "      <td>0.868619</td>\n",
       "    </tr>\n",
       "    <tr>\n",
       "      <th>CASH_ADVANCE</th>\n",
       "      <td>0.941527</td>\n",
       "      <td>0.202022</td>\n",
       "      <td>-0.810610</td>\n",
       "      <td>-0.940737</td>\n",
       "      <td>1.000000</td>\n",
       "      <td>-0.993080</td>\n",
       "      <td>-0.927027</td>\n",
       "      <td>0.990961</td>\n",
       "      <td>0.992298</td>\n",
       "      <td>-0.957172</td>\n",
       "      <td>0.367235</td>\n",
       "      <td>0.123271</td>\n",
       "      <td>0.674680</td>\n",
       "      <td>-0.919872</td>\n",
       "    </tr>\n",
       "    <tr>\n",
       "      <th>PURCHASES_FREQUENCY</th>\n",
       "      <td>-0.945418</td>\n",
       "      <td>-0.202384</td>\n",
       "      <td>0.805806</td>\n",
       "      <td>0.944332</td>\n",
       "      <td>-0.993080</td>\n",
       "      <td>1.000000</td>\n",
       "      <td>0.929169</td>\n",
       "      <td>-0.986047</td>\n",
       "      <td>-0.985268</td>\n",
       "      <td>0.961090</td>\n",
       "      <td>-0.363987</td>\n",
       "      <td>-0.115330</td>\n",
       "      <td>-0.716023</td>\n",
       "      <td>0.919738</td>\n",
       "    </tr>\n",
       "    <tr>\n",
       "      <th>ONEOFF_PURCHASES_FREQUENCY</th>\n",
       "      <td>-0.850457</td>\n",
       "      <td>-0.268279</td>\n",
       "      <td>0.935029</td>\n",
       "      <td>0.916728</td>\n",
       "      <td>-0.927027</td>\n",
       "      <td>0.929169</td>\n",
       "      <td>1.000000</td>\n",
       "      <td>-0.940455</td>\n",
       "      <td>-0.940925</td>\n",
       "      <td>0.968660</td>\n",
       "      <td>-0.099005</td>\n",
       "      <td>0.144895</td>\n",
       "      <td>-0.747347</td>\n",
       "      <td>0.851715</td>\n",
       "    </tr>\n",
       "    <tr>\n",
       "      <th>CASH_ADVANCE_FREQUENCY</th>\n",
       "      <td>0.932492</td>\n",
       "      <td>0.296975</td>\n",
       "      <td>-0.858226</td>\n",
       "      <td>-0.964624</td>\n",
       "      <td>0.990961</td>\n",
       "      <td>-0.986047</td>\n",
       "      <td>-0.940455</td>\n",
       "      <td>1.000000</td>\n",
       "      <td>0.998920</td>\n",
       "      <td>-0.973684</td>\n",
       "      <td>0.270993</td>\n",
       "      <td>0.011635</td>\n",
       "      <td>0.684195</td>\n",
       "      <td>-0.933020</td>\n",
       "    </tr>\n",
       "    <tr>\n",
       "      <th>CASH_ADVANCE_TRX</th>\n",
       "      <td>0.920952</td>\n",
       "      <td>0.262492</td>\n",
       "      <td>-0.854575</td>\n",
       "      <td>-0.961658</td>\n",
       "      <td>0.992298</td>\n",
       "      <td>-0.985268</td>\n",
       "      <td>-0.940925</td>\n",
       "      <td>0.998920</td>\n",
       "      <td>1.000000</td>\n",
       "      <td>-0.972645</td>\n",
       "      <td>0.266687</td>\n",
       "      <td>0.027095</td>\n",
       "      <td>0.665121</td>\n",
       "      <td>-0.919589</td>\n",
       "    </tr>\n",
       "    <tr>\n",
       "      <th>PURCHASES_TRX</th>\n",
       "      <td>-0.874188</td>\n",
       "      <td>-0.301519</td>\n",
       "      <td>0.928079</td>\n",
       "      <td>0.985264</td>\n",
       "      <td>-0.957172</td>\n",
       "      <td>0.961090</td>\n",
       "      <td>0.968660</td>\n",
       "      <td>-0.973684</td>\n",
       "      <td>-0.972645</td>\n",
       "      <td>1.000000</td>\n",
       "      <td>-0.154189</td>\n",
       "      <td>0.136172</td>\n",
       "      <td>-0.693402</td>\n",
       "      <td>0.871372</td>\n",
       "    </tr>\n",
       "    <tr>\n",
       "      <th>CREDIT_LIMIT</th>\n",
       "      <td>0.499228</td>\n",
       "      <td>-0.267117</td>\n",
       "      <td>0.120586</td>\n",
       "      <td>-0.151506</td>\n",
       "      <td>0.367235</td>\n",
       "      <td>-0.363987</td>\n",
       "      <td>-0.099005</td>\n",
       "      <td>0.270993</td>\n",
       "      <td>0.266687</td>\n",
       "      <td>-0.154189</td>\n",
       "      <td>1.000000</td>\n",
       "      <td>0.732085</td>\n",
       "      <td>0.207758</td>\n",
       "      <td>-0.353628</td>\n",
       "    </tr>\n",
       "    <tr>\n",
       "      <th>PAYMENTS</th>\n",
       "      <td>0.138918</td>\n",
       "      <td>-0.584523</td>\n",
       "      <td>0.457917</td>\n",
       "      <td>0.157587</td>\n",
       "      <td>0.123271</td>\n",
       "      <td>-0.115330</td>\n",
       "      <td>0.144895</td>\n",
       "      <td>0.011635</td>\n",
       "      <td>0.027095</td>\n",
       "      <td>0.136172</td>\n",
       "      <td>0.732085</td>\n",
       "      <td>1.000000</td>\n",
       "      <td>-0.121342</td>\n",
       "      <td>-0.021058</td>\n",
       "    </tr>\n",
       "    <tr>\n",
       "      <th>MINIMUM_PAYMENTS</th>\n",
       "      <td>0.802166</td>\n",
       "      <td>0.354786</td>\n",
       "      <td>-0.664277</td>\n",
       "      <td>-0.649809</td>\n",
       "      <td>0.674680</td>\n",
       "      <td>-0.716023</td>\n",
       "      <td>-0.747347</td>\n",
       "      <td>0.684195</td>\n",
       "      <td>0.665121</td>\n",
       "      <td>-0.693402</td>\n",
       "      <td>0.207758</td>\n",
       "      <td>-0.121342</td>\n",
       "      <td>1.000000</td>\n",
       "      <td>-0.814217</td>\n",
       "    </tr>\n",
       "    <tr>\n",
       "      <th>PRC_FULL_PAYMENT</th>\n",
       "      <td>-0.978921</td>\n",
       "      <td>-0.462415</td>\n",
       "      <td>0.764285</td>\n",
       "      <td>0.868619</td>\n",
       "      <td>-0.919872</td>\n",
       "      <td>0.919738</td>\n",
       "      <td>0.851715</td>\n",
       "      <td>-0.933020</td>\n",
       "      <td>-0.919589</td>\n",
       "      <td>0.871372</td>\n",
       "      <td>-0.353628</td>\n",
       "      <td>-0.021058</td>\n",
       "      <td>-0.814217</td>\n",
       "      <td>1.000000</td>\n",
       "    </tr>\n",
       "  </tbody>\n",
       "</table>\n",
       "</div>"
      ],
      "text/plain": [
       "                             BALANCE  BALANCE_FREQUENCY  ONEOFF_PURCHASES  \\\n",
       "BALANCE                     1.000000           0.335099         -0.726181   \n",
       "BALANCE_FREQUENCY           0.335099           1.000000         -0.438818   \n",
       "ONEOFF_PURCHASES           -0.726181          -0.438818          1.000000   \n",
       "INSTALLMENTS_PURCHASES     -0.862287          -0.351411          0.902171   \n",
       "CASH_ADVANCE                0.941527           0.202022         -0.810610   \n",
       "PURCHASES_FREQUENCY        -0.945418          -0.202384          0.805806   \n",
       "ONEOFF_PURCHASES_FREQUENCY -0.850457          -0.268279          0.935029   \n",
       "CASH_ADVANCE_FREQUENCY      0.932492           0.296975         -0.858226   \n",
       "CASH_ADVANCE_TRX            0.920952           0.262492         -0.854575   \n",
       "PURCHASES_TRX              -0.874188          -0.301519          0.928079   \n",
       "CREDIT_LIMIT                0.499228          -0.267117          0.120586   \n",
       "PAYMENTS                    0.138918          -0.584523          0.457917   \n",
       "MINIMUM_PAYMENTS            0.802166           0.354786         -0.664277   \n",
       "PRC_FULL_PAYMENT           -0.978921          -0.462415          0.764285   \n",
       "\n",
       "                            INSTALLMENTS_PURCHASES  CASH_ADVANCE  \\\n",
       "BALANCE                                  -0.862287      0.941527   \n",
       "BALANCE_FREQUENCY                        -0.351411      0.202022   \n",
       "ONEOFF_PURCHASES                          0.902171     -0.810610   \n",
       "INSTALLMENTS_PURCHASES                    1.000000     -0.940737   \n",
       "CASH_ADVANCE                             -0.940737      1.000000   \n",
       "PURCHASES_FREQUENCY                       0.944332     -0.993080   \n",
       "ONEOFF_PURCHASES_FREQUENCY                0.916728     -0.927027   \n",
       "CASH_ADVANCE_FREQUENCY                   -0.964624      0.990961   \n",
       "CASH_ADVANCE_TRX                         -0.961658      0.992298   \n",
       "PURCHASES_TRX                             0.985264     -0.957172   \n",
       "CREDIT_LIMIT                             -0.151506      0.367235   \n",
       "PAYMENTS                                  0.157587      0.123271   \n",
       "MINIMUM_PAYMENTS                         -0.649809      0.674680   \n",
       "PRC_FULL_PAYMENT                          0.868619     -0.919872   \n",
       "\n",
       "                            PURCHASES_FREQUENCY  ONEOFF_PURCHASES_FREQUENCY  \\\n",
       "BALANCE                               -0.945418                   -0.850457   \n",
       "BALANCE_FREQUENCY                     -0.202384                   -0.268279   \n",
       "ONEOFF_PURCHASES                       0.805806                    0.935029   \n",
       "INSTALLMENTS_PURCHASES                 0.944332                    0.916728   \n",
       "CASH_ADVANCE                          -0.993080                   -0.927027   \n",
       "PURCHASES_FREQUENCY                    1.000000                    0.929169   \n",
       "ONEOFF_PURCHASES_FREQUENCY             0.929169                    1.000000   \n",
       "CASH_ADVANCE_FREQUENCY                -0.986047                   -0.940455   \n",
       "CASH_ADVANCE_TRX                      -0.985268                   -0.940925   \n",
       "PURCHASES_TRX                          0.961090                    0.968660   \n",
       "CREDIT_LIMIT                          -0.363987                   -0.099005   \n",
       "PAYMENTS                              -0.115330                    0.144895   \n",
       "MINIMUM_PAYMENTS                      -0.716023                   -0.747347   \n",
       "PRC_FULL_PAYMENT                       0.919738                    0.851715   \n",
       "\n",
       "                            CASH_ADVANCE_FREQUENCY  CASH_ADVANCE_TRX  \\\n",
       "BALANCE                                   0.932492          0.920952   \n",
       "BALANCE_FREQUENCY                         0.296975          0.262492   \n",
       "ONEOFF_PURCHASES                         -0.858226         -0.854575   \n",
       "INSTALLMENTS_PURCHASES                   -0.964624         -0.961658   \n",
       "CASH_ADVANCE                              0.990961          0.992298   \n",
       "PURCHASES_FREQUENCY                      -0.986047         -0.985268   \n",
       "ONEOFF_PURCHASES_FREQUENCY               -0.940455         -0.940925   \n",
       "CASH_ADVANCE_FREQUENCY                    1.000000          0.998920   \n",
       "CASH_ADVANCE_TRX                          0.998920          1.000000   \n",
       "PURCHASES_TRX                            -0.973684         -0.972645   \n",
       "CREDIT_LIMIT                              0.270993          0.266687   \n",
       "PAYMENTS                                  0.011635          0.027095   \n",
       "MINIMUM_PAYMENTS                          0.684195          0.665121   \n",
       "PRC_FULL_PAYMENT                         -0.933020         -0.919589   \n",
       "\n",
       "                            PURCHASES_TRX  CREDIT_LIMIT  PAYMENTS  \\\n",
       "BALANCE                         -0.874188      0.499228  0.138918   \n",
       "BALANCE_FREQUENCY               -0.301519     -0.267117 -0.584523   \n",
       "ONEOFF_PURCHASES                 0.928079      0.120586  0.457917   \n",
       "INSTALLMENTS_PURCHASES           0.985264     -0.151506  0.157587   \n",
       "CASH_ADVANCE                    -0.957172      0.367235  0.123271   \n",
       "PURCHASES_FREQUENCY              0.961090     -0.363987 -0.115330   \n",
       "ONEOFF_PURCHASES_FREQUENCY       0.968660     -0.099005  0.144895   \n",
       "CASH_ADVANCE_FREQUENCY          -0.973684      0.270993  0.011635   \n",
       "CASH_ADVANCE_TRX                -0.972645      0.266687  0.027095   \n",
       "PURCHASES_TRX                    1.000000     -0.154189  0.136172   \n",
       "CREDIT_LIMIT                    -0.154189      1.000000  0.732085   \n",
       "PAYMENTS                         0.136172      0.732085  1.000000   \n",
       "MINIMUM_PAYMENTS                -0.693402      0.207758 -0.121342   \n",
       "PRC_FULL_PAYMENT                 0.871372     -0.353628 -0.021058   \n",
       "\n",
       "                            MINIMUM_PAYMENTS  PRC_FULL_PAYMENT  \n",
       "BALANCE                             0.802166         -0.978921  \n",
       "BALANCE_FREQUENCY                   0.354786         -0.462415  \n",
       "ONEOFF_PURCHASES                   -0.664277          0.764285  \n",
       "INSTALLMENTS_PURCHASES             -0.649809          0.868619  \n",
       "CASH_ADVANCE                        0.674680         -0.919872  \n",
       "PURCHASES_FREQUENCY                -0.716023          0.919738  \n",
       "ONEOFF_PURCHASES_FREQUENCY         -0.747347          0.851715  \n",
       "CASH_ADVANCE_FREQUENCY              0.684195         -0.933020  \n",
       "CASH_ADVANCE_TRX                    0.665121         -0.919589  \n",
       "PURCHASES_TRX                      -0.693402          0.871372  \n",
       "CREDIT_LIMIT                        0.207758         -0.353628  \n",
       "PAYMENTS                           -0.121342         -0.021058  \n",
       "MINIMUM_PAYMENTS                    1.000000         -0.814217  \n",
       "PRC_FULL_PAYMENT                   -0.814217          1.000000  "
      ]
     },
     "execution_count": 107,
     "metadata": {},
     "output_type": "execute_result"
    }
   ],
   "source": [
    "df=df.corr()\n",
    "df"
   ]
  },
  {
   "cell_type": "code",
   "execution_count": 108,
   "metadata": {},
   "outputs": [],
   "source": [
    "# Function to get unique correlations from the correlation matrix\n",
    "def get_redundant_pairs(df):\n",
    "    '''Get diagonal and lower triangular pairs of correlation matrix'''\n",
    "    pairs_to_drop = set()\n",
    "    cols = df.columns\n",
    "    for i in range(0, df.shape[1]):\n",
    "        for j in range(0, i+1):\n",
    "            pairs_to_drop.add((cols[i], cols[j]))\n",
    "    return pairs_to_drop\n",
    "\n",
    "# Function to get top n absolute correlation values and corresponding columns\n",
    "def get_top_abs_correlations(df, n=5):\n",
    "    au_corr = df.corr().abs().unstack()\n",
    "    labels_to_drop = get_redundant_pairs(df)\n",
    "    au_corr = au_corr.drop(labels=labels_to_drop).sort_values(ascending=False)\n",
    "    return au_corr[0:n]"
   ]
  },
  {
   "cell_type": "code",
   "execution_count": 109,
   "metadata": {},
   "outputs": [
    {
     "name": "stdout",
     "output_type": "stream",
     "text": [
      "Top Absolute Correlations \n",
      "\n",
      "CASH_ADVANCE_FREQUENCY      CASH_ADVANCE_TRX       0.999908\n",
      "CASH_ADVANCE                PURCHASES_FREQUENCY    0.999898\n",
      "INSTALLMENTS_PURCHASES      PURCHASES_TRX          0.999614\n",
      "ONEOFF_PURCHASES_FREQUENCY  PURCHASES_TRX          0.999225\n",
      "CASH_ADVANCE                CASH_ADVANCE_TRX       0.998851\n",
      "dtype: float64\n"
     ]
    }
   ],
   "source": [
    "print(\"Top Absolute Correlations \\n\")\n",
    "print(get_top_abs_correlations(df, 5))"
   ]
  },
  {
   "cell_type": "code",
   "execution_count": 110,
   "metadata": {},
   "outputs": [
    {
     "data": {
      "image/png": "[encoded data removed]",
      "text/plain": [
       "<Figure size 432x288 with 1 Axes>"
      ]
     },
     "metadata": {
      "needs_background": "light"
     },
     "output_type": "display_data"
    }
   ],
   "source": [
    "# Visualization of the top correlated variables\n",
    "x = get_top_abs_correlations(df, 5)\n",
    "x = x.reset_index()\n",
    "x.columns = ['Column_1', 'Column_2', 'Correlation' ]\n",
    "x['Column Pairs'] = x['Column_1'] + '  &  ' + x['Column_2']\n",
    "sns.barplot(x='Correlation', y='Column Pairs', data=x, palette='hot')\n",
    "plt.title('Top Correlations')\n",
    "plt.show()\n",
    "\n",
    "\n",
    "#Very high correlation between PURCHASES and ONEOFF_PURCHASES"
   ]
  },
  {
   "cell_type": "code",
   "execution_count": 111,
   "metadata": {},
   "outputs": [
    {
     "ename": "ValueError",
     "evalue": "Could not interpret input 'PURCHASES'",
     "output_type": "error",
     "traceback": [
      "\u001b[1;31m---------------------------------------------------------------------------\u001b[0m",
      "\u001b[1;31mValueError\u001b[0m                                Traceback (most recent call last)",
      "\u001b[1;32m<ipython-input-111-92dbc976e9be>\u001b[0m in \u001b[0;36m<module>\u001b[1;34m\u001b[0m\n\u001b[0;32m      1\u001b[0m \u001b[1;31m# Jointplot to visualize the high correlation between PURCHASES and ONEOFF_PURCHASES\u001b[0m\u001b[1;33m\u001b[0m\u001b[1;33m\u001b[0m\u001b[1;33m\u001b[0m\u001b[0m\n\u001b[1;32m----> 2\u001b[1;33m \u001b[0msns\u001b[0m\u001b[1;33m.\u001b[0m\u001b[0mjointplot\u001b[0m\u001b[1;33m(\u001b[0m\u001b[0mx\u001b[0m\u001b[1;33m=\u001b[0m\u001b[1;34m'PURCHASES'\u001b[0m\u001b[1;33m,\u001b[0m \u001b[0my\u001b[0m\u001b[1;33m=\u001b[0m\u001b[1;34m'ONEOFF_PURCHASES'\u001b[0m\u001b[1;33m,\u001b[0m \u001b[0mdata\u001b[0m\u001b[1;33m=\u001b[0m\u001b[0mdf\u001b[0m\u001b[1;33m,\u001b[0m \u001b[0mcolor\u001b[0m\u001b[1;33m=\u001b[0m\u001b[1;34m'lightgreen'\u001b[0m\u001b[1;33m)\u001b[0m\u001b[1;33m\u001b[0m\u001b[1;33m\u001b[0m\u001b[0m\n\u001b[0m\u001b[0;32m      3\u001b[0m \u001b[0mplt\u001b[0m\u001b[1;33m.\u001b[0m\u001b[0mshow\u001b[0m\u001b[1;33m(\u001b[0m\u001b[1;33m)\u001b[0m\u001b[1;33m\u001b[0m\u001b[1;33m\u001b[0m\u001b[0m\n",
      "\u001b[1;32m~\\anaconda3\\lib\\site-packages\\seaborn\\axisgrid.py\u001b[0m in \u001b[0;36mjointplot\u001b[1;34m(x, y, data, kind, stat_func, color, height, ratio, space, dropna, xlim, ylim, joint_kws, marginal_kws, annot_kws, **kwargs)\u001b[0m\n\u001b[0;32m   2279\u001b[0m \u001b[1;33m\u001b[0m\u001b[0m\n\u001b[0;32m   2280\u001b[0m     \u001b[1;31m# Initialize the JointGrid object\u001b[0m\u001b[1;33m\u001b[0m\u001b[1;33m\u001b[0m\u001b[1;33m\u001b[0m\u001b[0m\n\u001b[1;32m-> 2281\u001b[1;33m     grid = JointGrid(x, y, data, dropna=dropna,\n\u001b[0m\u001b[0;32m   2282\u001b[0m                      \u001b[0mheight\u001b[0m\u001b[1;33m=\u001b[0m\u001b[0mheight\u001b[0m\u001b[1;33m,\u001b[0m \u001b[0mratio\u001b[0m\u001b[1;33m=\u001b[0m\u001b[0mratio\u001b[0m\u001b[1;33m,\u001b[0m \u001b[0mspace\u001b[0m\u001b[1;33m=\u001b[0m\u001b[0mspace\u001b[0m\u001b[1;33m,\u001b[0m\u001b[1;33m\u001b[0m\u001b[1;33m\u001b[0m\u001b[0m\n\u001b[0;32m   2283\u001b[0m                      xlim=xlim, ylim=ylim)\n",
      "\u001b[1;32m~\\anaconda3\\lib\\site-packages\\seaborn\\axisgrid.py\u001b[0m in \u001b[0;36m__init__\u001b[1;34m(self, x, y, data, height, ratio, space, dropna, xlim, ylim, size)\u001b[0m\n\u001b[0;32m   1700\u001b[0m             \u001b[1;32mif\u001b[0m \u001b[0misinstance\u001b[0m\u001b[1;33m(\u001b[0m\u001b[0mvar\u001b[0m\u001b[1;33m,\u001b[0m \u001b[0mstr\u001b[0m\u001b[1;33m)\u001b[0m\u001b[1;33m:\u001b[0m\u001b[1;33m\u001b[0m\u001b[1;33m\u001b[0m\u001b[0m\n\u001b[0;32m   1701\u001b[0m                 \u001b[0merr\u001b[0m \u001b[1;33m=\u001b[0m \u001b[1;34m\"Could not interpret input '{}'\"\u001b[0m\u001b[1;33m.\u001b[0m\u001b[0mformat\u001b[0m\u001b[1;33m(\u001b[0m\u001b[0mvar\u001b[0m\u001b[1;33m)\u001b[0m\u001b[1;33m\u001b[0m\u001b[1;33m\u001b[0m\u001b[0m\n\u001b[1;32m-> 1702\u001b[1;33m                 \u001b[1;32mraise\u001b[0m \u001b[0mValueError\u001b[0m\u001b[1;33m(\u001b[0m\u001b[0merr\u001b[0m\u001b[1;33m)\u001b[0m\u001b[1;33m\u001b[0m\u001b[1;33m\u001b[0m\u001b[0m\n\u001b[0m\u001b[0;32m   1703\u001b[0m \u001b[1;33m\u001b[0m\u001b[0m\n\u001b[0;32m   1704\u001b[0m         \u001b[1;31m# Find the names of the variables\u001b[0m\u001b[1;33m\u001b[0m\u001b[1;33m\u001b[0m\u001b[1;33m\u001b[0m\u001b[0m\n",
      "\u001b[1;31mValueError\u001b[0m: Could not interpret input 'PURCHASES'"
     ]
    },
    {
     "data": {
      "image/png": "[encoded data removed]",
      "text/plain": [
       "<Figure size 432x432 with 3 Axes>"
      ]
     },
     "metadata": {
      "needs_background": "light"
     },
     "output_type": "display_data"
    }
   ],
   "source": [
    "# Jointplot to visualize the high correlation between PURCHASES and ONEOFF_PURCHASES\n",
    "sns.jointplot(x='PURCHASES', y='ONEOFF_PURCHASES', data=df, color='lightgreen')\n",
    "plt.show()"
   ]
  },
  {
   "cell_type": "code",
   "execution_count": 101,
   "metadata": {},
   "outputs": [
    {
     "ename": "KeyError",
     "evalue": "\"['PURCHASES'] not in index\"",
     "output_type": "error",
     "traceback": [
      "\u001b[1;31m---------------------------------------------------------------------------\u001b[0m",
      "\u001b[1;31mKeyError\u001b[0m                                  Traceback (most recent call last)",
      "\u001b[1;32m<ipython-input-101-d10c97ffc90a>\u001b[0m in \u001b[0;36m<module>\u001b[1;34m\u001b[0m\n\u001b[1;32m----> 1\u001b[1;33m \u001b[0mdf\u001b[0m\u001b[1;33m[\u001b[0m\u001b[1;33m[\u001b[0m\u001b[1;34m'PURCHASES'\u001b[0m\u001b[1;33m,\u001b[0m \u001b[1;34m'ONEOFF_PURCHASES'\u001b[0m\u001b[1;33m]\u001b[0m\u001b[1;33m]\u001b[0m\u001b[1;33m.\u001b[0m\u001b[0mhead\u001b[0m\u001b[1;33m(\u001b[0m\u001b[1;36m5\u001b[0m\u001b[1;33m)\u001b[0m\u001b[1;33m\u001b[0m\u001b[1;33m\u001b[0m\u001b[0m\n\u001b[0m",
      "\u001b[1;32m~\\anaconda3\\lib\\site-packages\\pandas\\core\\frame.py\u001b[0m in \u001b[0;36m__getitem__\u001b[1;34m(self, key)\u001b[0m\n\u001b[0;32m   2804\u001b[0m             \u001b[1;32mif\u001b[0m \u001b[0mis_iterator\u001b[0m\u001b[1;33m(\u001b[0m\u001b[0mkey\u001b[0m\u001b[1;33m)\u001b[0m\u001b[1;33m:\u001b[0m\u001b[1;33m\u001b[0m\u001b[1;33m\u001b[0m\u001b[0m\n\u001b[0;32m   2805\u001b[0m                 \u001b[0mkey\u001b[0m \u001b[1;33m=\u001b[0m \u001b[0mlist\u001b[0m\u001b[1;33m(\u001b[0m\u001b[0mkey\u001b[0m\u001b[1;33m)\u001b[0m\u001b[1;33m\u001b[0m\u001b[1;33m\u001b[0m\u001b[0m\n\u001b[1;32m-> 2806\u001b[1;33m             \u001b[0mindexer\u001b[0m \u001b[1;33m=\u001b[0m \u001b[0mself\u001b[0m\u001b[1;33m.\u001b[0m\u001b[0mloc\u001b[0m\u001b[1;33m.\u001b[0m\u001b[0m_get_listlike_indexer\u001b[0m\u001b[1;33m(\u001b[0m\u001b[0mkey\u001b[0m\u001b[1;33m,\u001b[0m \u001b[0maxis\u001b[0m\u001b[1;33m=\u001b[0m\u001b[1;36m1\u001b[0m\u001b[1;33m,\u001b[0m \u001b[0mraise_missing\u001b[0m\u001b[1;33m=\u001b[0m\u001b[1;32mTrue\u001b[0m\u001b[1;33m)\u001b[0m\u001b[1;33m[\u001b[0m\u001b[1;36m1\u001b[0m\u001b[1;33m]\u001b[0m\u001b[1;33m\u001b[0m\u001b[1;33m\u001b[0m\u001b[0m\n\u001b[0m\u001b[0;32m   2807\u001b[0m \u001b[1;33m\u001b[0m\u001b[0m\n\u001b[0;32m   2808\u001b[0m         \u001b[1;31m# take() does not accept boolean indexers\u001b[0m\u001b[1;33m\u001b[0m\u001b[1;33m\u001b[0m\u001b[1;33m\u001b[0m\u001b[0m\n",
      "\u001b[1;32m~\\anaconda3\\lib\\site-packages\\pandas\\core\\indexing.py\u001b[0m in \u001b[0;36m_get_listlike_indexer\u001b[1;34m(self, key, axis, raise_missing)\u001b[0m\n\u001b[0;32m   1550\u001b[0m             \u001b[0mkeyarr\u001b[0m\u001b[1;33m,\u001b[0m \u001b[0mindexer\u001b[0m\u001b[1;33m,\u001b[0m \u001b[0mnew_indexer\u001b[0m \u001b[1;33m=\u001b[0m \u001b[0max\u001b[0m\u001b[1;33m.\u001b[0m\u001b[0m_reindex_non_unique\u001b[0m\u001b[1;33m(\u001b[0m\u001b[0mkeyarr\u001b[0m\u001b[1;33m)\u001b[0m\u001b[1;33m\u001b[0m\u001b[1;33m\u001b[0m\u001b[0m\n\u001b[0;32m   1551\u001b[0m \u001b[1;33m\u001b[0m\u001b[0m\n\u001b[1;32m-> 1552\u001b[1;33m         self._validate_read_indexer(\n\u001b[0m\u001b[0;32m   1553\u001b[0m             \u001b[0mkeyarr\u001b[0m\u001b[1;33m,\u001b[0m \u001b[0mindexer\u001b[0m\u001b[1;33m,\u001b[0m \u001b[0mo\u001b[0m\u001b[1;33m.\u001b[0m\u001b[0m_get_axis_number\u001b[0m\u001b[1;33m(\u001b[0m\u001b[0maxis\u001b[0m\u001b[1;33m)\u001b[0m\u001b[1;33m,\u001b[0m \u001b[0mraise_missing\u001b[0m\u001b[1;33m=\u001b[0m\u001b[0mraise_missing\u001b[0m\u001b[1;33m\u001b[0m\u001b[1;33m\u001b[0m\u001b[0m\n\u001b[0;32m   1554\u001b[0m         )\n",
      "\u001b[1;32m~\\anaconda3\\lib\\site-packages\\pandas\\core\\indexing.py\u001b[0m in \u001b[0;36m_validate_read_indexer\u001b[1;34m(self, key, indexer, axis, raise_missing)\u001b[0m\n\u001b[0;32m   1644\u001b[0m             \u001b[1;32mif\u001b[0m \u001b[1;32mnot\u001b[0m \u001b[1;33m(\u001b[0m\u001b[0mself\u001b[0m\u001b[1;33m.\u001b[0m\u001b[0mname\u001b[0m \u001b[1;33m==\u001b[0m \u001b[1;34m\"loc\"\u001b[0m \u001b[1;32mand\u001b[0m \u001b[1;32mnot\u001b[0m \u001b[0mraise_missing\u001b[0m\u001b[1;33m)\u001b[0m\u001b[1;33m:\u001b[0m\u001b[1;33m\u001b[0m\u001b[1;33m\u001b[0m\u001b[0m\n\u001b[0;32m   1645\u001b[0m                 \u001b[0mnot_found\u001b[0m \u001b[1;33m=\u001b[0m \u001b[0mlist\u001b[0m\u001b[1;33m(\u001b[0m\u001b[0mset\u001b[0m\u001b[1;33m(\u001b[0m\u001b[0mkey\u001b[0m\u001b[1;33m)\u001b[0m \u001b[1;33m-\u001b[0m \u001b[0mset\u001b[0m\u001b[1;33m(\u001b[0m\u001b[0max\u001b[0m\u001b[1;33m)\u001b[0m\u001b[1;33m)\u001b[0m\u001b[1;33m\u001b[0m\u001b[1;33m\u001b[0m\u001b[0m\n\u001b[1;32m-> 1646\u001b[1;33m                 \u001b[1;32mraise\u001b[0m \u001b[0mKeyError\u001b[0m\u001b[1;33m(\u001b[0m\u001b[1;34mf\"{not_found} not in index\"\u001b[0m\u001b[1;33m)\u001b[0m\u001b[1;33m\u001b[0m\u001b[1;33m\u001b[0m\u001b[0m\n\u001b[0m\u001b[0;32m   1647\u001b[0m \u001b[1;33m\u001b[0m\u001b[0m\n\u001b[0;32m   1648\u001b[0m             \u001b[1;31m# we skip the warning on Categorical/Interval\u001b[0m\u001b[1;33m\u001b[0m\u001b[1;33m\u001b[0m\u001b[1;33m\u001b[0m\u001b[0m\n",
      "\u001b[1;31mKeyError\u001b[0m: \"['PURCHASES'] not in index\""
     ]
    }
   ],
   "source": [
    "df[['PURCHASES', 'ONEOFF_PURCHASES']].head(5)"
   ]
  },
  {
   "cell_type": "code",
   "execution_count": 102,
   "metadata": {},
   "outputs": [
    {
     "ename": "KeyError",
     "evalue": "\"['PURCHASES'] not in index\"",
     "output_type": "error",
     "traceback": [
      "\u001b[1;31m---------------------------------------------------------------------------\u001b[0m",
      "\u001b[1;31mKeyError\u001b[0m                                  Traceback (most recent call last)",
      "\u001b[1;32m<ipython-input-102-df6b75272bf5>\u001b[0m in \u001b[0;36m<module>\u001b[1;34m\u001b[0m\n\u001b[1;32m----> 1\u001b[1;33m \u001b[0mdf\u001b[0m\u001b[1;33m[\u001b[0m\u001b[1;33m[\u001b[0m\u001b[1;34m'PURCHASES'\u001b[0m\u001b[1;33m,\u001b[0m \u001b[1;34m'ONEOFF_PURCHASES'\u001b[0m\u001b[1;33m,\u001b[0m \u001b[1;34m'INSTALLMENTS_PURCHASES'\u001b[0m\u001b[1;33m]\u001b[0m\u001b[1;33m]\u001b[0m\u001b[1;33m.\u001b[0m\u001b[0mhead\u001b[0m\u001b[1;33m(\u001b[0m\u001b[1;36m5\u001b[0m\u001b[1;33m)\u001b[0m\u001b[1;33m\u001b[0m\u001b[1;33m\u001b[0m\u001b[0m\n\u001b[0m",
      "\u001b[1;32m~\\anaconda3\\lib\\site-packages\\pandas\\core\\frame.py\u001b[0m in \u001b[0;36m__getitem__\u001b[1;34m(self, key)\u001b[0m\n\u001b[0;32m   2804\u001b[0m             \u001b[1;32mif\u001b[0m \u001b[0mis_iterator\u001b[0m\u001b[1;33m(\u001b[0m\u001b[0mkey\u001b[0m\u001b[1;33m)\u001b[0m\u001b[1;33m:\u001b[0m\u001b[1;33m\u001b[0m\u001b[1;33m\u001b[0m\u001b[0m\n\u001b[0;32m   2805\u001b[0m                 \u001b[0mkey\u001b[0m \u001b[1;33m=\u001b[0m \u001b[0mlist\u001b[0m\u001b[1;33m(\u001b[0m\u001b[0mkey\u001b[0m\u001b[1;33m)\u001b[0m\u001b[1;33m\u001b[0m\u001b[1;33m\u001b[0m\u001b[0m\n\u001b[1;32m-> 2806\u001b[1;33m             \u001b[0mindexer\u001b[0m \u001b[1;33m=\u001b[0m \u001b[0mself\u001b[0m\u001b[1;33m.\u001b[0m\u001b[0mloc\u001b[0m\u001b[1;33m.\u001b[0m\u001b[0m_get_listlike_indexer\u001b[0m\u001b[1;33m(\u001b[0m\u001b[0mkey\u001b[0m\u001b[1;33m,\u001b[0m \u001b[0maxis\u001b[0m\u001b[1;33m=\u001b[0m\u001b[1;36m1\u001b[0m\u001b[1;33m,\u001b[0m \u001b[0mraise_missing\u001b[0m\u001b[1;33m=\u001b[0m\u001b[1;32mTrue\u001b[0m\u001b[1;33m)\u001b[0m\u001b[1;33m[\u001b[0m\u001b[1;36m1\u001b[0m\u001b[1;33m]\u001b[0m\u001b[1;33m\u001b[0m\u001b[1;33m\u001b[0m\u001b[0m\n\u001b[0m\u001b[0;32m   2807\u001b[0m \u001b[1;33m\u001b[0m\u001b[0m\n\u001b[0;32m   2808\u001b[0m         \u001b[1;31m# take() does not accept boolean indexers\u001b[0m\u001b[1;33m\u001b[0m\u001b[1;33m\u001b[0m\u001b[1;33m\u001b[0m\u001b[0m\n",
      "\u001b[1;32m~\\anaconda3\\lib\\site-packages\\pandas\\core\\indexing.py\u001b[0m in \u001b[0;36m_get_listlike_indexer\u001b[1;34m(self, key, axis, raise_missing)\u001b[0m\n\u001b[0;32m   1550\u001b[0m             \u001b[0mkeyarr\u001b[0m\u001b[1;33m,\u001b[0m \u001b[0mindexer\u001b[0m\u001b[1;33m,\u001b[0m \u001b[0mnew_indexer\u001b[0m \u001b[1;33m=\u001b[0m \u001b[0max\u001b[0m\u001b[1;33m.\u001b[0m\u001b[0m_reindex_non_unique\u001b[0m\u001b[1;33m(\u001b[0m\u001b[0mkeyarr\u001b[0m\u001b[1;33m)\u001b[0m\u001b[1;33m\u001b[0m\u001b[1;33m\u001b[0m\u001b[0m\n\u001b[0;32m   1551\u001b[0m \u001b[1;33m\u001b[0m\u001b[0m\n\u001b[1;32m-> 1552\u001b[1;33m         self._validate_read_indexer(\n\u001b[0m\u001b[0;32m   1553\u001b[0m             \u001b[0mkeyarr\u001b[0m\u001b[1;33m,\u001b[0m \u001b[0mindexer\u001b[0m\u001b[1;33m,\u001b[0m \u001b[0mo\u001b[0m\u001b[1;33m.\u001b[0m\u001b[0m_get_axis_number\u001b[0m\u001b[1;33m(\u001b[0m\u001b[0maxis\u001b[0m\u001b[1;33m)\u001b[0m\u001b[1;33m,\u001b[0m \u001b[0mraise_missing\u001b[0m\u001b[1;33m=\u001b[0m\u001b[0mraise_missing\u001b[0m\u001b[1;33m\u001b[0m\u001b[1;33m\u001b[0m\u001b[0m\n\u001b[0;32m   1554\u001b[0m         )\n",
      "\u001b[1;32m~\\anaconda3\\lib\\site-packages\\pandas\\core\\indexing.py\u001b[0m in \u001b[0;36m_validate_read_indexer\u001b[1;34m(self, key, indexer, axis, raise_missing)\u001b[0m\n\u001b[0;32m   1644\u001b[0m             \u001b[1;32mif\u001b[0m \u001b[1;32mnot\u001b[0m \u001b[1;33m(\u001b[0m\u001b[0mself\u001b[0m\u001b[1;33m.\u001b[0m\u001b[0mname\u001b[0m \u001b[1;33m==\u001b[0m \u001b[1;34m\"loc\"\u001b[0m \u001b[1;32mand\u001b[0m \u001b[1;32mnot\u001b[0m \u001b[0mraise_missing\u001b[0m\u001b[1;33m)\u001b[0m\u001b[1;33m:\u001b[0m\u001b[1;33m\u001b[0m\u001b[1;33m\u001b[0m\u001b[0m\n\u001b[0;32m   1645\u001b[0m                 \u001b[0mnot_found\u001b[0m \u001b[1;33m=\u001b[0m \u001b[0mlist\u001b[0m\u001b[1;33m(\u001b[0m\u001b[0mset\u001b[0m\u001b[1;33m(\u001b[0m\u001b[0mkey\u001b[0m\u001b[1;33m)\u001b[0m \u001b[1;33m-\u001b[0m \u001b[0mset\u001b[0m\u001b[1;33m(\u001b[0m\u001b[0max\u001b[0m\u001b[1;33m)\u001b[0m\u001b[1;33m)\u001b[0m\u001b[1;33m\u001b[0m\u001b[1;33m\u001b[0m\u001b[0m\n\u001b[1;32m-> 1646\u001b[1;33m                 \u001b[1;32mraise\u001b[0m \u001b[0mKeyError\u001b[0m\u001b[1;33m(\u001b[0m\u001b[1;34mf\"{not_found} not in index\"\u001b[0m\u001b[1;33m)\u001b[0m\u001b[1;33m\u001b[0m\u001b[1;33m\u001b[0m\u001b[0m\n\u001b[0m\u001b[0;32m   1647\u001b[0m \u001b[1;33m\u001b[0m\u001b[0m\n\u001b[0;32m   1648\u001b[0m             \u001b[1;31m# we skip the warning on Categorical/Interval\u001b[0m\u001b[1;33m\u001b[0m\u001b[1;33m\u001b[0m\u001b[1;33m\u001b[0m\u001b[0m\n",
      "\u001b[1;31mKeyError\u001b[0m: \"['PURCHASES'] not in index\""
     ]
    }
   ],
   "source": [
    "df[['PURCHASES', 'ONEOFF_PURCHASES', 'INSTALLMENTS_PURCHASES']].head(5)"
   ]
  },
  {
   "cell_type": "code",
   "execution_count": 103,
   "metadata": {},
   "outputs": [
    {
     "ename": "KeyError",
     "evalue": "\"['PURCHASES'] not found in axis\"",
     "output_type": "error",
     "traceback": [
      "\u001b[1;31m---------------------------------------------------------------------------\u001b[0m",
      "\u001b[1;31mKeyError\u001b[0m                                  Traceback (most recent call last)",
      "\u001b[1;32m<ipython-input-103-3a9f1978581d>\u001b[0m in \u001b[0;36m<module>\u001b[1;34m\u001b[0m\n\u001b[1;32m----> 1\u001b[1;33m \u001b[0mdf\u001b[0m\u001b[1;33m.\u001b[0m\u001b[0mdrop\u001b[0m\u001b[1;33m(\u001b[0m\u001b[1;34m'PURCHASES'\u001b[0m\u001b[1;33m,\u001b[0m \u001b[0maxis\u001b[0m\u001b[1;33m=\u001b[0m\u001b[1;36m1\u001b[0m\u001b[1;33m,\u001b[0m \u001b[0minplace\u001b[0m\u001b[1;33m=\u001b[0m\u001b[1;32mTrue\u001b[0m\u001b[1;33m)\u001b[0m\u001b[1;33m\u001b[0m\u001b[1;33m\u001b[0m\u001b[0m\n\u001b[0m",
      "\u001b[1;32m~\\anaconda3\\lib\\site-packages\\pandas\\core\\frame.py\u001b[0m in \u001b[0;36mdrop\u001b[1;34m(self, labels, axis, index, columns, level, inplace, errors)\u001b[0m\n\u001b[0;32m   3988\u001b[0m                 \u001b[0mweight\u001b[0m  \u001b[1;36m1.0\u001b[0m     \u001b[1;36m0.8\u001b[0m\u001b[1;33m\u001b[0m\u001b[1;33m\u001b[0m\u001b[0m\n\u001b[0;32m   3989\u001b[0m         \"\"\"\n\u001b[1;32m-> 3990\u001b[1;33m         return super().drop(\n\u001b[0m\u001b[0;32m   3991\u001b[0m             \u001b[0mlabels\u001b[0m\u001b[1;33m=\u001b[0m\u001b[0mlabels\u001b[0m\u001b[1;33m,\u001b[0m\u001b[1;33m\u001b[0m\u001b[1;33m\u001b[0m\u001b[0m\n\u001b[0;32m   3992\u001b[0m             \u001b[0maxis\u001b[0m\u001b[1;33m=\u001b[0m\u001b[0maxis\u001b[0m\u001b[1;33m,\u001b[0m\u001b[1;33m\u001b[0m\u001b[1;33m\u001b[0m\u001b[0m\n",
      "\u001b[1;32m~\\anaconda3\\lib\\site-packages\\pandas\\core\\generic.py\u001b[0m in \u001b[0;36mdrop\u001b[1;34m(self, labels, axis, index, columns, level, inplace, errors)\u001b[0m\n\u001b[0;32m   3934\u001b[0m         \u001b[1;32mfor\u001b[0m \u001b[0maxis\u001b[0m\u001b[1;33m,\u001b[0m \u001b[0mlabels\u001b[0m \u001b[1;32min\u001b[0m \u001b[0maxes\u001b[0m\u001b[1;33m.\u001b[0m\u001b[0mitems\u001b[0m\u001b[1;33m(\u001b[0m\u001b[1;33m)\u001b[0m\u001b[1;33m:\u001b[0m\u001b[1;33m\u001b[0m\u001b[1;33m\u001b[0m\u001b[0m\n\u001b[0;32m   3935\u001b[0m             \u001b[1;32mif\u001b[0m \u001b[0mlabels\u001b[0m \u001b[1;32mis\u001b[0m \u001b[1;32mnot\u001b[0m \u001b[1;32mNone\u001b[0m\u001b[1;33m:\u001b[0m\u001b[1;33m\u001b[0m\u001b[1;33m\u001b[0m\u001b[0m\n\u001b[1;32m-> 3936\u001b[1;33m                 \u001b[0mobj\u001b[0m \u001b[1;33m=\u001b[0m \u001b[0mobj\u001b[0m\u001b[1;33m.\u001b[0m\u001b[0m_drop_axis\u001b[0m\u001b[1;33m(\u001b[0m\u001b[0mlabels\u001b[0m\u001b[1;33m,\u001b[0m \u001b[0maxis\u001b[0m\u001b[1;33m,\u001b[0m \u001b[0mlevel\u001b[0m\u001b[1;33m=\u001b[0m\u001b[0mlevel\u001b[0m\u001b[1;33m,\u001b[0m \u001b[0merrors\u001b[0m\u001b[1;33m=\u001b[0m\u001b[0merrors\u001b[0m\u001b[1;33m)\u001b[0m\u001b[1;33m\u001b[0m\u001b[1;33m\u001b[0m\u001b[0m\n\u001b[0m\u001b[0;32m   3937\u001b[0m \u001b[1;33m\u001b[0m\u001b[0m\n\u001b[0;32m   3938\u001b[0m         \u001b[1;32mif\u001b[0m \u001b[0minplace\u001b[0m\u001b[1;33m:\u001b[0m\u001b[1;33m\u001b[0m\u001b[1;33m\u001b[0m\u001b[0m\n",
      "\u001b[1;32m~\\anaconda3\\lib\\site-packages\\pandas\\core\\generic.py\u001b[0m in \u001b[0;36m_drop_axis\u001b[1;34m(self, labels, axis, level, errors)\u001b[0m\n\u001b[0;32m   3968\u001b[0m                 \u001b[0mnew_axis\u001b[0m \u001b[1;33m=\u001b[0m \u001b[0maxis\u001b[0m\u001b[1;33m.\u001b[0m\u001b[0mdrop\u001b[0m\u001b[1;33m(\u001b[0m\u001b[0mlabels\u001b[0m\u001b[1;33m,\u001b[0m \u001b[0mlevel\u001b[0m\u001b[1;33m=\u001b[0m\u001b[0mlevel\u001b[0m\u001b[1;33m,\u001b[0m \u001b[0merrors\u001b[0m\u001b[1;33m=\u001b[0m\u001b[0merrors\u001b[0m\u001b[1;33m)\u001b[0m\u001b[1;33m\u001b[0m\u001b[1;33m\u001b[0m\u001b[0m\n\u001b[0;32m   3969\u001b[0m             \u001b[1;32melse\u001b[0m\u001b[1;33m:\u001b[0m\u001b[1;33m\u001b[0m\u001b[1;33m\u001b[0m\u001b[0m\n\u001b[1;32m-> 3970\u001b[1;33m                 \u001b[0mnew_axis\u001b[0m \u001b[1;33m=\u001b[0m \u001b[0maxis\u001b[0m\u001b[1;33m.\u001b[0m\u001b[0mdrop\u001b[0m\u001b[1;33m(\u001b[0m\u001b[0mlabels\u001b[0m\u001b[1;33m,\u001b[0m \u001b[0merrors\u001b[0m\u001b[1;33m=\u001b[0m\u001b[0merrors\u001b[0m\u001b[1;33m)\u001b[0m\u001b[1;33m\u001b[0m\u001b[1;33m\u001b[0m\u001b[0m\n\u001b[0m\u001b[0;32m   3971\u001b[0m             \u001b[0mresult\u001b[0m \u001b[1;33m=\u001b[0m \u001b[0mself\u001b[0m\u001b[1;33m.\u001b[0m\u001b[0mreindex\u001b[0m\u001b[1;33m(\u001b[0m\u001b[1;33m**\u001b[0m\u001b[1;33m{\u001b[0m\u001b[0maxis_name\u001b[0m\u001b[1;33m:\u001b[0m \u001b[0mnew_axis\u001b[0m\u001b[1;33m}\u001b[0m\u001b[1;33m)\u001b[0m\u001b[1;33m\u001b[0m\u001b[1;33m\u001b[0m\u001b[0m\n\u001b[0;32m   3972\u001b[0m \u001b[1;33m\u001b[0m\u001b[0m\n",
      "\u001b[1;32m~\\anaconda3\\lib\\site-packages\\pandas\\core\\indexes\\base.py\u001b[0m in \u001b[0;36mdrop\u001b[1;34m(self, labels, errors)\u001b[0m\n\u001b[0;32m   5016\u001b[0m         \u001b[1;32mif\u001b[0m \u001b[0mmask\u001b[0m\u001b[1;33m.\u001b[0m\u001b[0many\u001b[0m\u001b[1;33m(\u001b[0m\u001b[1;33m)\u001b[0m\u001b[1;33m:\u001b[0m\u001b[1;33m\u001b[0m\u001b[1;33m\u001b[0m\u001b[0m\n\u001b[0;32m   5017\u001b[0m             \u001b[1;32mif\u001b[0m \u001b[0merrors\u001b[0m \u001b[1;33m!=\u001b[0m \u001b[1;34m\"ignore\"\u001b[0m\u001b[1;33m:\u001b[0m\u001b[1;33m\u001b[0m\u001b[1;33m\u001b[0m\u001b[0m\n\u001b[1;32m-> 5018\u001b[1;33m                 \u001b[1;32mraise\u001b[0m \u001b[0mKeyError\u001b[0m\u001b[1;33m(\u001b[0m\u001b[1;34mf\"{labels[mask]} not found in axis\"\u001b[0m\u001b[1;33m)\u001b[0m\u001b[1;33m\u001b[0m\u001b[1;33m\u001b[0m\u001b[0m\n\u001b[0m\u001b[0;32m   5019\u001b[0m             \u001b[0mindexer\u001b[0m \u001b[1;33m=\u001b[0m \u001b[0mindexer\u001b[0m\u001b[1;33m[\u001b[0m\u001b[1;33m~\u001b[0m\u001b[0mmask\u001b[0m\u001b[1;33m]\u001b[0m\u001b[1;33m\u001b[0m\u001b[1;33m\u001b[0m\u001b[0m\n\u001b[0;32m   5020\u001b[0m         \u001b[1;32mreturn\u001b[0m \u001b[0mself\u001b[0m\u001b[1;33m.\u001b[0m\u001b[0mdelete\u001b[0m\u001b[1;33m(\u001b[0m\u001b[0mindexer\u001b[0m\u001b[1;33m)\u001b[0m\u001b[1;33m\u001b[0m\u001b[1;33m\u001b[0m\u001b[0m\n",
      "\u001b[1;31mKeyError\u001b[0m: \"['PURCHASES'] not found in axis\""
     ]
    }
   ],
   "source": [
    "df.drop('PURCHASES', axis=1, inplace=True)"
   ]
  },
  {
   "cell_type": "code",
   "execution_count": 104,
   "metadata": {},
   "outputs": [
    {
     "ename": "KeyError",
     "evalue": "'PURCHASES_INSTALLMENTS_FREQUENCY'",
     "output_type": "error",
     "traceback": [
      "\u001b[1;31m---------------------------------------------------------------------------\u001b[0m",
      "\u001b[1;31mKeyError\u001b[0m                                  Traceback (most recent call last)",
      "\u001b[1;32m~\\anaconda3\\lib\\site-packages\\pandas\\core\\indexes\\base.py\u001b[0m in \u001b[0;36mget_loc\u001b[1;34m(self, key, method, tolerance)\u001b[0m\n\u001b[0;32m   2645\u001b[0m             \u001b[1;32mtry\u001b[0m\u001b[1;33m:\u001b[0m\u001b[1;33m\u001b[0m\u001b[1;33m\u001b[0m\u001b[0m\n\u001b[1;32m-> 2646\u001b[1;33m                 \u001b[1;32mreturn\u001b[0m \u001b[0mself\u001b[0m\u001b[1;33m.\u001b[0m\u001b[0m_engine\u001b[0m\u001b[1;33m.\u001b[0m\u001b[0mget_loc\u001b[0m\u001b[1;33m(\u001b[0m\u001b[0mkey\u001b[0m\u001b[1;33m)\u001b[0m\u001b[1;33m\u001b[0m\u001b[1;33m\u001b[0m\u001b[0m\n\u001b[0m\u001b[0;32m   2647\u001b[0m             \u001b[1;32mexcept\u001b[0m \u001b[0mKeyError\u001b[0m\u001b[1;33m:\u001b[0m\u001b[1;33m\u001b[0m\u001b[1;33m\u001b[0m\u001b[0m\n",
      "\u001b[1;32mpandas\\_libs\\index.pyx\u001b[0m in \u001b[0;36mpandas._libs.index.IndexEngine.get_loc\u001b[1;34m()\u001b[0m\n",
      "\u001b[1;32mpandas\\_libs\\index.pyx\u001b[0m in \u001b[0;36mpandas._libs.index.IndexEngine.get_loc\u001b[1;34m()\u001b[0m\n",
      "\u001b[1;32mpandas\\_libs\\hashtable_class_helper.pxi\u001b[0m in \u001b[0;36mpandas._libs.hashtable.PyObjectHashTable.get_item\u001b[1;34m()\u001b[0m\n",
      "\u001b[1;32mpandas\\_libs\\hashtable_class_helper.pxi\u001b[0m in \u001b[0;36mpandas._libs.hashtable.PyObjectHashTable.get_item\u001b[1;34m()\u001b[0m\n",
      "\u001b[1;31mKeyError\u001b[0m: 'PURCHASES_INSTALLMENTS_FREQUENCY'",
      "\nDuring handling of the above exception, another exception occurred:\n",
      "\u001b[1;31mKeyError\u001b[0m                                  Traceback (most recent call last)",
      "\u001b[1;32m<ipython-input-104-7f6357b61a2f>\u001b[0m in \u001b[0;36m<module>\u001b[1;34m\u001b[0m\n\u001b[0;32m      1\u001b[0m \u001b[1;31m# KDE plot to visualize high correlation between PURCHASES_FREQUENCY and PURCHASES_INSTALLMENTS_FREQUENCY\u001b[0m\u001b[1;33m\u001b[0m\u001b[1;33m\u001b[0m\u001b[1;33m\u001b[0m\u001b[0m\n\u001b[1;32m----> 2\u001b[1;33m sns.kdeplot( df['PURCHASES_FREQUENCY'], df['PURCHASES_INSTALLMENTS_FREQUENCY'],\n\u001b[0m\u001b[0;32m      3\u001b[0m                  cmap=\"plasma\", shade=True, shade_lowest=False)\n\u001b[0;32m      4\u001b[0m \u001b[0mplt\u001b[0m\u001b[1;33m.\u001b[0m\u001b[0mshow\u001b[0m\u001b[1;33m(\u001b[0m\u001b[1;33m)\u001b[0m\u001b[1;33m\u001b[0m\u001b[1;33m\u001b[0m\u001b[0m\n",
      "\u001b[1;32m~\\anaconda3\\lib\\site-packages\\pandas\\core\\frame.py\u001b[0m in \u001b[0;36m__getitem__\u001b[1;34m(self, key)\u001b[0m\n\u001b[0;32m   2798\u001b[0m             \u001b[1;32mif\u001b[0m \u001b[0mself\u001b[0m\u001b[1;33m.\u001b[0m\u001b[0mcolumns\u001b[0m\u001b[1;33m.\u001b[0m\u001b[0mnlevels\u001b[0m \u001b[1;33m>\u001b[0m \u001b[1;36m1\u001b[0m\u001b[1;33m:\u001b[0m\u001b[1;33m\u001b[0m\u001b[1;33m\u001b[0m\u001b[0m\n\u001b[0;32m   2799\u001b[0m                 \u001b[1;32mreturn\u001b[0m \u001b[0mself\u001b[0m\u001b[1;33m.\u001b[0m\u001b[0m_getitem_multilevel\u001b[0m\u001b[1;33m(\u001b[0m\u001b[0mkey\u001b[0m\u001b[1;33m)\u001b[0m\u001b[1;33m\u001b[0m\u001b[1;33m\u001b[0m\u001b[0m\n\u001b[1;32m-> 2800\u001b[1;33m             \u001b[0mindexer\u001b[0m \u001b[1;33m=\u001b[0m \u001b[0mself\u001b[0m\u001b[1;33m.\u001b[0m\u001b[0mcolumns\u001b[0m\u001b[1;33m.\u001b[0m\u001b[0mget_loc\u001b[0m\u001b[1;33m(\u001b[0m\u001b[0mkey\u001b[0m\u001b[1;33m)\u001b[0m\u001b[1;33m\u001b[0m\u001b[1;33m\u001b[0m\u001b[0m\n\u001b[0m\u001b[0;32m   2801\u001b[0m             \u001b[1;32mif\u001b[0m \u001b[0mis_integer\u001b[0m\u001b[1;33m(\u001b[0m\u001b[0mindexer\u001b[0m\u001b[1;33m)\u001b[0m\u001b[1;33m:\u001b[0m\u001b[1;33m\u001b[0m\u001b[1;33m\u001b[0m\u001b[0m\n\u001b[0;32m   2802\u001b[0m                 \u001b[0mindexer\u001b[0m \u001b[1;33m=\u001b[0m \u001b[1;33m[\u001b[0m\u001b[0mindexer\u001b[0m\u001b[1;33m]\u001b[0m\u001b[1;33m\u001b[0m\u001b[1;33m\u001b[0m\u001b[0m\n",
      "\u001b[1;32m~\\anaconda3\\lib\\site-packages\\pandas\\core\\indexes\\base.py\u001b[0m in \u001b[0;36mget_loc\u001b[1;34m(self, key, method, tolerance)\u001b[0m\n\u001b[0;32m   2646\u001b[0m                 \u001b[1;32mreturn\u001b[0m \u001b[0mself\u001b[0m\u001b[1;33m.\u001b[0m\u001b[0m_engine\u001b[0m\u001b[1;33m.\u001b[0m\u001b[0mget_loc\u001b[0m\u001b[1;33m(\u001b[0m\u001b[0mkey\u001b[0m\u001b[1;33m)\u001b[0m\u001b[1;33m\u001b[0m\u001b[1;33m\u001b[0m\u001b[0m\n\u001b[0;32m   2647\u001b[0m             \u001b[1;32mexcept\u001b[0m \u001b[0mKeyError\u001b[0m\u001b[1;33m:\u001b[0m\u001b[1;33m\u001b[0m\u001b[1;33m\u001b[0m\u001b[0m\n\u001b[1;32m-> 2648\u001b[1;33m                 \u001b[1;32mreturn\u001b[0m \u001b[0mself\u001b[0m\u001b[1;33m.\u001b[0m\u001b[0m_engine\u001b[0m\u001b[1;33m.\u001b[0m\u001b[0mget_loc\u001b[0m\u001b[1;33m(\u001b[0m\u001b[0mself\u001b[0m\u001b[1;33m.\u001b[0m\u001b[0m_maybe_cast_indexer\u001b[0m\u001b[1;33m(\u001b[0m\u001b[0mkey\u001b[0m\u001b[1;33m)\u001b[0m\u001b[1;33m)\u001b[0m\u001b[1;33m\u001b[0m\u001b[1;33m\u001b[0m\u001b[0m\n\u001b[0m\u001b[0;32m   2649\u001b[0m         \u001b[0mindexer\u001b[0m \u001b[1;33m=\u001b[0m \u001b[0mself\u001b[0m\u001b[1;33m.\u001b[0m\u001b[0mget_indexer\u001b[0m\u001b[1;33m(\u001b[0m\u001b[1;33m[\u001b[0m\u001b[0mkey\u001b[0m\u001b[1;33m]\u001b[0m\u001b[1;33m,\u001b[0m \u001b[0mmethod\u001b[0m\u001b[1;33m=\u001b[0m\u001b[0mmethod\u001b[0m\u001b[1;33m,\u001b[0m \u001b[0mtolerance\u001b[0m\u001b[1;33m=\u001b[0m\u001b[0mtolerance\u001b[0m\u001b[1;33m)\u001b[0m\u001b[1;33m\u001b[0m\u001b[1;33m\u001b[0m\u001b[0m\n\u001b[0;32m   2650\u001b[0m         \u001b[1;32mif\u001b[0m \u001b[0mindexer\u001b[0m\u001b[1;33m.\u001b[0m\u001b[0mndim\u001b[0m \u001b[1;33m>\u001b[0m \u001b[1;36m1\u001b[0m \u001b[1;32mor\u001b[0m \u001b[0mindexer\u001b[0m\u001b[1;33m.\u001b[0m\u001b[0msize\u001b[0m \u001b[1;33m>\u001b[0m \u001b[1;36m1\u001b[0m\u001b[1;33m:\u001b[0m\u001b[1;33m\u001b[0m\u001b[1;33m\u001b[0m\u001b[0m\n",
      "\u001b[1;32mpandas\\_libs\\index.pyx\u001b[0m in \u001b[0;36mpandas._libs.index.IndexEngine.get_loc\u001b[1;34m()\u001b[0m\n",
      "\u001b[1;32mpandas\\_libs\\index.pyx\u001b[0m in \u001b[0;36mpandas._libs.index.IndexEngine.get_loc\u001b[1;34m()\u001b[0m\n",
      "\u001b[1;32mpandas\\_libs\\hashtable_class_helper.pxi\u001b[0m in \u001b[0;36mpandas._libs.hashtable.PyObjectHashTable.get_item\u001b[1;34m()\u001b[0m\n",
      "\u001b[1;32mpandas\\_libs\\hashtable_class_helper.pxi\u001b[0m in \u001b[0;36mpandas._libs.hashtable.PyObjectHashTable.get_item\u001b[1;34m()\u001b[0m\n",
      "\u001b[1;31mKeyError\u001b[0m: 'PURCHASES_INSTALLMENTS_FREQUENCY'"
     ]
    }
   ],
   "source": [
    "# KDE plot to visualize high correlation between PURCHASES_FREQUENCY and PURCHASES_INSTALLMENTS_FREQUENCY\n",
    "sns.kdeplot( df['PURCHASES_FREQUENCY'], df['PURCHASES_INSTALLMENTS_FREQUENCY'],\n",
    "                 cmap=\"plasma\", shade=True, shade_lowest=False)\n",
    "plt.show()"
   ]
  },
  {
   "cell_type": "code",
   "execution_count": 51,
   "metadata": {},
   "outputs": [],
   "source": [
    "# Dropping PURCHASES_INSTALLMENTS_FREQUENCY\n",
    "df.drop('PURCHASES_INSTALLMENTS_FREQUENCY', axis=1, inplace=True)"
   ]
  },
  {
   "cell_type": "code",
   "execution_count": 52,
   "metadata": {},
   "outputs": [
    {
     "data": {
      "text/plain": [
       "<seaborn.axisgrid.FacetGrid at 0x1e767525a60>"
      ]
     },
     "execution_count": 52,
     "metadata": {},
     "output_type": "execute_result"
    },
    {
     "data": {
      "image/png": "[encoded data removed]",
      "text/plain": [
       "<Figure size 360x360 with 1 Axes>"
      ]
     },
     "metadata": {
      "needs_background": "light"
     },
     "output_type": "display_data"
    }
   ],
   "source": [
    "\n",
    "# Plot to visualize linear relationship between CASH_ADVANCE_TRX and CASH_ADVANCE_FREQUENCY\n",
    "sns.lmplot(x='CASH_ADVANCE_TRX', y='CASH_ADVANCE_FREQUENCY', data=df)"
   ]
  },
  {
   "cell_type": "code",
   "execution_count": 67,
   "metadata": {},
   "outputs": [
    {
     "data": {
      "image/png": "[encoded data removed]",
      "text/plain": [
       "<Figure size 1296x432 with 1 Axes>"
      ]
     },
     "metadata": {
      "needs_background": "light"
     },
     "output_type": "display_data"
    }
   ],
   "source": [
    "\n",
    "# Plotting Boxplots of all our features to get idea of distribution and outliers\n",
    "plt.figure(figsize=(18,6))\n",
    "sns.boxplot(x=\"value\", y=\"variable\", data=pd.melt(df))\n",
    "plt.title('Boxplots of all variables', size=15)\n",
    "plt.show()"
   ]
  },
  {
   "cell_type": "code",
   "execution_count": 54,
   "metadata": {},
   "outputs": [
    {
     "data": {
      "text/html": [
       "<div>\n",
       "<style scoped>\n",
       "    .dataframe tbody tr th:only-of-type {\n",
       "        vertical-align: middle;\n",
       "    }\n",
       "\n",
       "    .dataframe tbody tr th {\n",
       "        vertical-align: top;\n",
       "    }\n",
       "\n",
       "    .dataframe thead th {\n",
       "        text-align: right;\n",
       "    }\n",
       "</style>\n",
       "<table border=\"1\" class=\"dataframe\">\n",
       "  <thead>\n",
       "    <tr style=\"text-align: right;\">\n",
       "      <th></th>\n",
       "      <th>BALANCE</th>\n",
       "      <th>BALANCE_FREQUENCY</th>\n",
       "      <th>ONEOFF_PURCHASES</th>\n",
       "      <th>INSTALLMENTS_PURCHASES</th>\n",
       "      <th>CASH_ADVANCE</th>\n",
       "      <th>PURCHASES_FREQUENCY</th>\n",
       "      <th>ONEOFF_PURCHASES_FREQUENCY</th>\n",
       "      <th>CASH_ADVANCE_FREQUENCY</th>\n",
       "      <th>CASH_ADVANCE_TRX</th>\n",
       "      <th>PURCHASES_TRX</th>\n",
       "      <th>CREDIT_LIMIT</th>\n",
       "      <th>PAYMENTS</th>\n",
       "      <th>MINIMUM_PAYMENTS</th>\n",
       "      <th>PRC_FULL_PAYMENT</th>\n",
       "    </tr>\n",
       "  </thead>\n",
       "  <tbody>\n",
       "    <tr>\n",
       "      <th>count</th>\n",
       "      <td>16.000000</td>\n",
       "      <td>16.000000</td>\n",
       "      <td>16.000000</td>\n",
       "      <td>16.000000</td>\n",
       "      <td>16.000000</td>\n",
       "      <td>16.000000</td>\n",
       "      <td>16.000000</td>\n",
       "      <td>16.000000</td>\n",
       "      <td>16.000000</td>\n",
       "      <td>16.000000</td>\n",
       "      <td>16.000000</td>\n",
       "      <td>16.000000</td>\n",
       "      <td>16.000000</td>\n",
       "      <td>16.000000</td>\n",
       "    </tr>\n",
       "    <tr>\n",
       "      <th>mean</th>\n",
       "      <td>0.259350</td>\n",
       "      <td>0.194954</td>\n",
       "      <td>0.305629</td>\n",
       "      <td>0.296486</td>\n",
       "      <td>0.182880</td>\n",
       "      <td>0.249542</td>\n",
       "      <td>0.256535</td>\n",
       "      <td>0.130555</td>\n",
       "      <td>0.164705</td>\n",
       "      <td>0.342646</td>\n",
       "      <td>0.281301</td>\n",
       "      <td>0.331218</td>\n",
       "      <td>0.150818</td>\n",
       "      <td>0.088556</td>\n",
       "    </tr>\n",
       "    <tr>\n",
       "      <th>std</th>\n",
       "      <td>0.304405</td>\n",
       "      <td>0.232237</td>\n",
       "      <td>0.327324</td>\n",
       "      <td>0.303952</td>\n",
       "      <td>0.364048</td>\n",
       "      <td>0.374488</td>\n",
       "      <td>0.297568</td>\n",
       "      <td>0.396414</td>\n",
       "      <td>0.367425</td>\n",
       "      <td>0.318873</td>\n",
       "      <td>0.235267</td>\n",
       "      <td>0.246620</td>\n",
       "      <td>0.252130</td>\n",
       "      <td>0.308177</td>\n",
       "    </tr>\n",
       "    <tr>\n",
       "      <th>min</th>\n",
       "      <td>-0.318959</td>\n",
       "      <td>-0.095082</td>\n",
       "      <td>-0.082628</td>\n",
       "      <td>-0.132318</td>\n",
       "      <td>-0.215507</td>\n",
       "      <td>-0.308478</td>\n",
       "      <td>-0.111716</td>\n",
       "      <td>-0.308478</td>\n",
       "      <td>-0.203478</td>\n",
       "      <td>-0.131168</td>\n",
       "      <td>0.055672</td>\n",
       "      <td>0.065008</td>\n",
       "      <td>-0.135579</td>\n",
       "      <td>-0.318959</td>\n",
       "    </tr>\n",
       "    <tr>\n",
       "      <th>25%</th>\n",
       "      <td>0.113143</td>\n",
       "      <td>0.103089</td>\n",
       "      <td>0.091052</td>\n",
       "      <td>0.125925</td>\n",
       "      <td>-0.078576</td>\n",
       "      <td>-0.014817</td>\n",
       "      <td>0.048507</td>\n",
       "      <td>-0.131456</td>\n",
       "      <td>-0.070316</td>\n",
       "      <td>0.140579</td>\n",
       "      <td>0.126104</td>\n",
       "      <td>0.123999</td>\n",
       "      <td>0.046271</td>\n",
       "      <td>-0.139918</td>\n",
       "    </tr>\n",
       "    <tr>\n",
       "      <th>50%</th>\n",
       "      <td>0.251837</td>\n",
       "      <td>0.139847</td>\n",
       "      <td>0.214643</td>\n",
       "      <td>0.235271</td>\n",
       "      <td>0.034031</td>\n",
       "      <td>0.247326</td>\n",
       "      <td>0.208229</td>\n",
       "      <td>0.010223</td>\n",
       "      <td>0.033215</td>\n",
       "      <td>0.321857</td>\n",
       "      <td>0.264691</td>\n",
       "      <td>0.289040</td>\n",
       "      <td>0.107858</td>\n",
       "      <td>0.122451</td>\n",
       "    </tr>\n",
       "    <tr>\n",
       "      <th>75%</th>\n",
       "      <td>0.414208</td>\n",
       "      <td>0.194508</td>\n",
       "      <td>0.530049</td>\n",
       "      <td>0.459651</td>\n",
       "      <td>0.464101</td>\n",
       "      <td>0.457149</td>\n",
       "      <td>0.499158</td>\n",
       "      <td>0.256209</td>\n",
       "      <td>0.287746</td>\n",
       "      <td>0.551250</td>\n",
       "      <td>0.329034</td>\n",
       "      <td>0.429705</td>\n",
       "      <td>0.135024</td>\n",
       "      <td>0.180927</td>\n",
       "    </tr>\n",
       "    <tr>\n",
       "      <th>max</th>\n",
       "      <td>1.000000</td>\n",
       "      <td>1.000000</td>\n",
       "      <td>1.000000</td>\n",
       "      <td>1.000000</td>\n",
       "      <td>1.000000</td>\n",
       "      <td>1.000000</td>\n",
       "      <td>1.000000</td>\n",
       "      <td>1.000000</td>\n",
       "      <td>1.000000</td>\n",
       "      <td>1.000000</td>\n",
       "      <td>1.000000</td>\n",
       "      <td>1.000000</td>\n",
       "      <td>1.000000</td>\n",
       "      <td>1.000000</td>\n",
       "    </tr>\n",
       "  </tbody>\n",
       "</table>\n",
       "</div>"
      ],
      "text/plain": [
       "         BALANCE  BALANCE_FREQUENCY  ONEOFF_PURCHASES  INSTALLMENTS_PURCHASES  \\\n",
       "count  16.000000          16.000000         16.000000               16.000000   \n",
       "mean    0.259350           0.194954          0.305629                0.296486   \n",
       "std     0.304405           0.232237          0.327324                0.303952   \n",
       "min    -0.318959          -0.095082         -0.082628               -0.132318   \n",
       "25%     0.113143           0.103089          0.091052                0.125925   \n",
       "50%     0.251837           0.139847          0.214643                0.235271   \n",
       "75%     0.414208           0.194508          0.530049                0.459651   \n",
       "max     1.000000           1.000000          1.000000                1.000000   \n",
       "\n",
       "       CASH_ADVANCE  PURCHASES_FREQUENCY  ONEOFF_PURCHASES_FREQUENCY  \\\n",
       "count     16.000000            16.000000                   16.000000   \n",
       "mean       0.182880             0.249542                    0.256535   \n",
       "std        0.364048             0.374488                    0.297568   \n",
       "min       -0.215507            -0.308478                   -0.111716   \n",
       "25%       -0.078576            -0.014817                    0.048507   \n",
       "50%        0.034031             0.247326                    0.208229   \n",
       "75%        0.464101             0.457149                    0.499158   \n",
       "max        1.000000             1.000000                    1.000000   \n",
       "\n",
       "       CASH_ADVANCE_FREQUENCY  CASH_ADVANCE_TRX  PURCHASES_TRX  CREDIT_LIMIT  \\\n",
       "count               16.000000         16.000000      16.000000     16.000000   \n",
       "mean                 0.130555          0.164705       0.342646      0.281301   \n",
       "std                  0.396414          0.367425       0.318873      0.235267   \n",
       "min                 -0.308478         -0.203478      -0.131168      0.055672   \n",
       "25%                 -0.131456         -0.070316       0.140579      0.126104   \n",
       "50%                  0.010223          0.033215       0.321857      0.264691   \n",
       "75%                  0.256209          0.287746       0.551250      0.329034   \n",
       "max                  1.000000          1.000000       1.000000      1.000000   \n",
       "\n",
       "        PAYMENTS  MINIMUM_PAYMENTS  PRC_FULL_PAYMENT  \n",
       "count  16.000000         16.000000         16.000000  \n",
       "mean    0.331218          0.150818          0.088556  \n",
       "std     0.246620          0.252130          0.308177  \n",
       "min     0.065008         -0.135579         -0.318959  \n",
       "25%     0.123999          0.046271         -0.139918  \n",
       "50%     0.289040          0.107858          0.122451  \n",
       "75%     0.429705          0.135024          0.180927  \n",
       "max     1.000000          1.000000          1.000000  "
      ]
     },
     "execution_count": 54,
     "metadata": {},
     "output_type": "execute_result"
    }
   ],
   "source": [
    "#f. Check distribution of features and comment your findings. (3 points)\n",
    "df.describe()"
   ]
  },
  {
   "cell_type": "code",
   "execution_count": 68,
   "metadata": {},
   "outputs": [],
   "source": [
    "#g. Standardize the data using appropriate methods. (2 points)\n",
    "from sklearn.preprocessing import StandardScaler"
   ]
  },
  {
   "cell_type": "code",
   "execution_count": 69,
   "metadata": {},
   "outputs": [
    {
     "data": {
      "text/html": [
       "<div>\n",
       "<style scoped>\n",
       "    .dataframe tbody tr th:only-of-type {\n",
       "        vertical-align: middle;\n",
       "    }\n",
       "\n",
       "    .dataframe tbody tr th {\n",
       "        vertical-align: top;\n",
       "    }\n",
       "\n",
       "    .dataframe thead th {\n",
       "        text-align: right;\n",
       "    }\n",
       "</style>\n",
       "<table border=\"1\" class=\"dataframe\">\n",
       "  <thead>\n",
       "    <tr style=\"text-align: right;\">\n",
       "      <th></th>\n",
       "      <th>BALANCE</th>\n",
       "      <th>BALANCE_FREQUENCY</th>\n",
       "      <th>ONEOFF_PURCHASES</th>\n",
       "      <th>INSTALLMENTS_PURCHASES</th>\n",
       "      <th>CASH_ADVANCE</th>\n",
       "      <th>PURCHASES_FREQUENCY</th>\n",
       "      <th>ONEOFF_PURCHASES_FREQUENCY</th>\n",
       "      <th>CASH_ADVANCE_FREQUENCY</th>\n",
       "      <th>CASH_ADVANCE_TRX</th>\n",
       "      <th>PURCHASES_TRX</th>\n",
       "      <th>CREDIT_LIMIT</th>\n",
       "      <th>PAYMENTS</th>\n",
       "      <th>MINIMUM_PAYMENTS</th>\n",
       "      <th>PRC_FULL_PAYMENT</th>\n",
       "    </tr>\n",
       "  </thead>\n",
       "  <tbody>\n",
       "    <tr>\n",
       "      <th>BALANCE</th>\n",
       "      <td>2.512906</td>\n",
       "      <td>0.566830</td>\n",
       "      <td>-0.445776</td>\n",
       "      <td>-0.577698</td>\n",
       "      <td>0.890275</td>\n",
       "      <td>-0.903167</td>\n",
       "      <td>-0.636435</td>\n",
       "      <td>0.830229</td>\n",
       "      <td>0.619654</td>\n",
       "      <td>-0.609909</td>\n",
       "      <td>1.097393</td>\n",
       "      <td>-0.035247</td>\n",
       "      <td>1.031117</td>\n",
       "      <td>-1.365709</td>\n",
       "    </tr>\n",
       "    <tr>\n",
       "      <th>BALANCE_FREQUENCY</th>\n",
       "      <td>0.213962</td>\n",
       "      <td>3.580177</td>\n",
       "      <td>-0.635176</td>\n",
       "      <td>-0.585095</td>\n",
       "      <td>-0.236865</td>\n",
       "      <td>-0.054678</td>\n",
       "      <td>-0.187839</td>\n",
       "      <td>0.159755</td>\n",
       "      <td>-0.065073</td>\n",
       "      <td>-0.495616</td>\n",
       "      <td>-0.814141</td>\n",
       "      <td>-1.114837</td>\n",
       "      <td>-0.051938</td>\n",
       "      <td>-0.615429</td>\n",
       "    </tr>\n",
       "    <tr>\n",
       "      <th>PURCHASES</th>\n",
       "      <td>-0.264943</td>\n",
       "      <td>-0.272520</td>\n",
       "      <td>1.928551</td>\n",
       "      <td>1.302786</td>\n",
       "      <td>-0.664857</td>\n",
       "      <td>0.395690</td>\n",
       "      <td>0.839563</td>\n",
       "      <td>-0.653155</td>\n",
       "      <td>-0.651792</td>\n",
       "      <td>1.123621</td>\n",
       "      <td>0.332147</td>\n",
       "      <td>1.139273</td>\n",
       "      <td>-0.222347</td>\n",
       "      <td>0.307728</td>\n",
       "    </tr>\n",
       "    <tr>\n",
       "      <th>ONEOFF_PURCHASES</th>\n",
       "      <td>-0.322319</td>\n",
       "      <td>-0.403049</td>\n",
       "      <td>2.190930</td>\n",
       "      <td>0.115989</td>\n",
       "      <td>-0.607696</td>\n",
       "      <td>0.042459</td>\n",
       "      <td>0.931405</td>\n",
       "      <td>-0.555414</td>\n",
       "      <td>-0.592867</td>\n",
       "      <td>0.657098</td>\n",
       "      <td>0.168670</td>\n",
       "      <td>0.988629</td>\n",
       "      <td>-0.407908</td>\n",
       "      <td>0.148151</td>\n",
       "    </tr>\n",
       "    <tr>\n",
       "      <th>INSTALLMENTS_PURCHASES</th>\n",
       "      <td>-0.450842</td>\n",
       "      <td>-0.314244</td>\n",
       "      <td>0.078857</td>\n",
       "      <td>2.390462</td>\n",
       "      <td>-0.701083</td>\n",
       "      <td>0.531930</td>\n",
       "      <td>-0.147484</td>\n",
       "      <td>-0.684876</td>\n",
       "      <td>-0.670974</td>\n",
       "      <td>0.924580</td>\n",
       "      <td>-0.108878</td>\n",
       "      <td>0.221390</td>\n",
       "      <td>-0.068949</td>\n",
       "      <td>0.315068</td>\n",
       "    </tr>\n",
       "  </tbody>\n",
       "</table>\n",
       "</div>"
      ],
      "text/plain": [
       "                         BALANCE  BALANCE_FREQUENCY  ONEOFF_PURCHASES  \\\n",
       "BALANCE                 2.512906           0.566830         -0.445776   \n",
       "BALANCE_FREQUENCY       0.213962           3.580177         -0.635176   \n",
       "PURCHASES              -0.264943          -0.272520          1.928551   \n",
       "ONEOFF_PURCHASES       -0.322319          -0.403049          2.190930   \n",
       "INSTALLMENTS_PURCHASES -0.450842          -0.314244          0.078857   \n",
       "\n",
       "                        INSTALLMENTS_PURCHASES  CASH_ADVANCE  \\\n",
       "BALANCE                              -0.577698      0.890275   \n",
       "BALANCE_FREQUENCY                    -0.585095     -0.236865   \n",
       "PURCHASES                             1.302786     -0.664857   \n",
       "ONEOFF_PURCHASES                      0.115989     -0.607696   \n",
       "INSTALLMENTS_PURCHASES                2.390462     -0.701083   \n",
       "\n",
       "                        PURCHASES_FREQUENCY  ONEOFF_PURCHASES_FREQUENCY  \\\n",
       "BALANCE                           -0.903167                   -0.636435   \n",
       "BALANCE_FREQUENCY                 -0.054678                   -0.187839   \n",
       "PURCHASES                          0.395690                    0.839563   \n",
       "ONEOFF_PURCHASES                   0.042459                    0.931405   \n",
       "INSTALLMENTS_PURCHASES             0.531930                   -0.147484   \n",
       "\n",
       "                        CASH_ADVANCE_FREQUENCY  CASH_ADVANCE_TRX  \\\n",
       "BALANCE                               0.830229          0.619654   \n",
       "BALANCE_FREQUENCY                     0.159755         -0.065073   \n",
       "PURCHASES                            -0.653155         -0.651792   \n",
       "ONEOFF_PURCHASES                     -0.555414         -0.592867   \n",
       "INSTALLMENTS_PURCHASES               -0.684876         -0.670974   \n",
       "\n",
       "                        PURCHASES_TRX  CREDIT_LIMIT  PAYMENTS  \\\n",
       "BALANCE                     -0.609909      1.097393 -0.035247   \n",
       "BALANCE_FREQUENCY           -0.495616     -0.814141 -1.114837   \n",
       "PURCHASES                    1.123621      0.332147  1.139273   \n",
       "ONEOFF_PURCHASES             0.657098      0.168670  0.988629   \n",
       "INSTALLMENTS_PURCHASES       0.924580     -0.108878  0.221390   \n",
       "\n",
       "                        MINIMUM_PAYMENTS  PRC_FULL_PAYMENT  \n",
       "BALANCE                         1.031117         -1.365709  \n",
       "BALANCE_FREQUENCY              -0.051938         -0.615429  \n",
       "PURCHASES                      -0.222347          0.307728  \n",
       "ONEOFF_PURCHASES               -0.407908          0.148151  \n",
       "INSTALLMENTS_PURCHASES         -0.068949          0.315068  "
      ]
     },
     "execution_count": 69,
     "metadata": {},
     "output_type": "execute_result"
    }
   ],
   "source": [
    "# Scaling the data\n",
    "# Scaling the data\n",
    "scaler = StandardScaler()\n",
    "scaler.fit(df)\n",
    "df = pd.DataFrame(scaler.fit_transform(df), columns= df.columns, index=df.index)\n",
    "df.head()"
   ]
  },
  {
   "cell_type": "code",
   "execution_count": 70,
   "metadata": {},
   "outputs": [],
   "source": [
    "\n",
    "# Replacing extreme outliers with 99th and 1st percentiles for each variable\n",
    "df_kmeans = df.copy()\n",
    "for i in df_kmeans.columns:\n",
    "    ulimit = np.percentile(df_kmeans[i].values, 99)\n",
    "    llimit = np.percentile(df_kmeans[i].values, 1)\n",
    "    df_kmeans[i].loc[df_kmeans[i]>ulimit] = ulimit\n",
    "    df_kmeans[i].loc[df_kmeans[i]<llimit] = llimit"
   ]
  },
  {
   "cell_type": "code",
   "execution_count": 71,
   "metadata": {},
   "outputs": [
    {
     "data": {
      "image/png": "[encoded data removed]",
      "text/plain": [
       "<Figure size 1296x864 with 2 Axes>"
      ]
     },
     "metadata": {
      "needs_background": "light"
     },
     "output_type": "display_data"
    }
   ],
   "source": [
    "# Comparison of Boxplots before and after treating outliers\n",
    "fig, ax = plt.subplots(nrows=2, ncols=1, figsize=(18,12) )\n",
    "sns.boxplot(x=\"value\", y=\"variable\", data=pd.melt(df), ax=ax[0], palette='cool')\n",
    "ax[0].title.set_text('Boxplots of original data')\n",
    "\n",
    "sns.boxplot(x=\"value\", y=\"variable\", data=pd.melt(df_kmeans), ax=ax[1], palette='cool')\n",
    "ax[1].title.set_text('Boxplots after treating extreme outliers')\n",
    "plt.show()"
   ]
  },
  {
   "cell_type": "code",
   "execution_count": 91,
   "metadata": {},
   "outputs": [],
   "source": [
    "#3. Apply PCA to the dataset and perform all steps from Q2 on the new features generated using PCA. (15\n",
    "#points)\n",
    "from sklearn.decomposition import PCA"
   ]
  },
  {
   "cell_type": "code",
   "execution_count": 92,
   "metadata": {},
   "outputs": [
    {
     "ename": "NameError",
     "evalue": "name 'df_copy' is not defined",
     "output_type": "error",
     "traceback": [
      "\u001b[1;31m---------------------------------------------------------------------------\u001b[0m",
      "\u001b[1;31mNameError\u001b[0m                                 Traceback (most recent call last)",
      "\u001b[1;32m<ipython-input-92-6b60eb0cbcf4>\u001b[0m in \u001b[0;36m<module>\u001b[1;34m\u001b[0m\n\u001b[0;32m      1\u001b[0m \u001b[0mscaler\u001b[0m \u001b[1;33m=\u001b[0m \u001b[0mStandardScaler\u001b[0m\u001b[1;33m(\u001b[0m\u001b[1;33m)\u001b[0m\u001b[1;33m\u001b[0m\u001b[1;33m\u001b[0m\u001b[0m\n\u001b[1;32m----> 2\u001b[1;33m \u001b[0mscaler\u001b[0m\u001b[1;33m.\u001b[0m\u001b[0mfit\u001b[0m\u001b[1;33m(\u001b[0m\u001b[0mdf_copy\u001b[0m\u001b[1;33m)\u001b[0m\u001b[1;33m\u001b[0m\u001b[1;33m\u001b[0m\u001b[0m\n\u001b[0m\u001b[0;32m      3\u001b[0m \u001b[0mscaled_df\u001b[0m \u001b[1;33m=\u001b[0m \u001b[0mpd\u001b[0m\u001b[1;33m.\u001b[0m\u001b[0mDataFrame\u001b[0m\u001b[1;33m(\u001b[0m\u001b[0mscaler\u001b[0m\u001b[1;33m.\u001b[0m\u001b[0mfit_transform\u001b[0m\u001b[1;33m(\u001b[0m\u001b[0mdf_copy\u001b[0m\u001b[1;33m)\u001b[0m\u001b[1;33m,\u001b[0m \u001b[0mcolumns\u001b[0m\u001b[1;33m=\u001b[0m \u001b[0mdf_copy\u001b[0m\u001b[1;33m.\u001b[0m\u001b[0mcolumns\u001b[0m\u001b[1;33m,\u001b[0m \u001b[0mindex\u001b[0m\u001b[1;33m=\u001b[0m\u001b[0mdf_copy\u001b[0m\u001b[1;33m.\u001b[0m\u001b[0mindex\u001b[0m\u001b[1;33m)\u001b[0m\u001b[1;33m\u001b[0m\u001b[1;33m\u001b[0m\u001b[0m\n\u001b[0;32m      4\u001b[0m \u001b[0mscaled_df\u001b[0m\u001b[1;33m.\u001b[0m\u001b[0mhead\u001b[0m\u001b[1;33m(\u001b[0m\u001b[1;33m)\u001b[0m\u001b[1;33m\u001b[0m\u001b[1;33m\u001b[0m\u001b[0m\n",
      "\u001b[1;31mNameError\u001b[0m: name 'df_copy' is not defined"
     ]
    }
   ],
   "source": [
    "scaler = StandardScaler()\n",
    "scaler.fit(df_copy)\n",
    "scaled_df = pd.DataFrame(scaler.fit_transform(df_copy), columns= df_copy.columns, index=df_copy.index)\n",
    "scaled_df.head()"
   ]
  },
  {
   "cell_type": "code",
   "execution_count": 84,
   "metadata": {},
   "outputs": [],
   "source": [
    "#2. Build a k-means algorithm for clustering credit card data. Kindly follow the below steps and answer the\n",
    "#following. (10 points)\n",
    "#a. Build k means model on various k values and plot the inertia against various k values.\n",
    "\n",
    "# Imports for kmeans\n",
    "from sklearn.cluster import KMeans\n",
    "from sklearn.metrics import silhouette_samples, silhouette_score\n",
    "import matplotlib.cm as cm"
   ]
  },
  {
   "cell_type": "code",
   "execution_count": null,
   "metadata": {},
   "outputs": [],
   "source": [
    "# k-means with 10 different centroid seeds\n",
    "# (init= 'k-means++' : selects initial cluster centers in a smart way to speed up convergence)"
   ]
  },
  {
   "cell_type": "code",
   "execution_count": 85,
   "metadata": {},
   "outputs": [],
   "source": [
    "# and Silhouette scores for different values of k (number of clusters).\n",
    "\n",
    "def kmeans_analysis(df_kmeans, random_state=101):\n",
    "    \n",
    "    range_n_clusters = list(range(2,11))\n",
    "    silhouette_scores = []\n",
    "    wss = []\n",
    "    \n",
    "    # Taking 2 Principal Components for the dataset for purpose of visualization\n",
    "    pca = PCA().fit(df_kmeans)\n",
    "    X = pca.fit_transform(df_kmeans)\n",
    "    \n",
    "    # Looping through the values of k\n",
    "    for n_clusters in range_n_clusters:\n",
    "        fig, (ax1, ax2) = plt.subplots(1, 2)\n",
    "        fig.set_size_inches(18, 7)\n",
    "        ax1.set_xlim([-0.1, 1])\n",
    "        ax1.set_ylim([0, len(X) + (n_clusters + 1) * 10])\n",
    "\n",
    "        clusterer = KMeans(n_clusters=n_clusters, random_state= random_state)\n",
    "        cluster_labels = clusterer.fit_predict(df_kmeans)\n",
    "\n",
    "        # The silhouette_score gives the average value for all the samples.\n",
    "        silhouette_avg = silhouette_score(df_kmeans, cluster_labels)\n",
    "        print(\"For n_clusters =\", n_clusters,\n",
    "              \"The average silhouette_score is :\", round(silhouette_avg,2))\n",
    "        \n",
    "        # Appending silhouette score and within cluster squared error to seperate lists for the particular k value\n",
    "        silhouette_scores.append(silhouette_avg)\n",
    "        wss.append(clusterer.inertia_)\n",
    "        \n",
    "        # Silhouette scores for each sample\n",
    "        sample_silhouette_values = silhouette_samples(df_kmeans, cluster_labels)\n",
    "\n",
    "        y_lower = 10\n",
    "        for i in range(n_clusters):\n",
    "            # Aggregate the silhouette scores for samples belonging to\n",
    "            # cluster i, and sort them\n",
    "            ith_cluster_silhouette_values = \\\n",
    "                sample_silhouette_values[cluster_labels == i]\n",
    "\n",
    "            ith_cluster_silhouette_values.sort()\n",
    "\n",
    "            size_cluster_i = ith_cluster_silhouette_values.shape[0]\n",
    "            y_upper = y_lower + size_cluster_i\n",
    "\n",
    "            color = cm.nipy_spectral(float(i) / n_clusters)\n",
    "            ax1.fill_betweenx(np.arange(y_lower, y_upper),\n",
    "                              0, ith_cluster_silhouette_values,\n",
    "                              facecolor=color, edgecolor=color, alpha=0.7)\n",
    "\n",
    "            # Compute the new y_lower for next plot\n",
    "            y_lower = y_upper + 10\n",
    "\n",
    "        ax1.set_title(\"The silhouette plot for the clusters.\")\n",
    "        ax1.set_xlabel(\"The silhouette coefficient values\")\n",
    "        ax1.set_ylabel(\"Cluster label\")\n",
    "\n",
    "        \n",
    "        # The vertical line for average silhouette score of all the values\n",
    "        ax1.axvline(x=silhouette_avg, color=\"red\", linestyle=\"--\")\n",
    "\n",
    "        ax1.set_yticks([])\n",
    "        ax1.set_xticks([-0.1, 0, 0.2, 0.4, 0.6, 0.8, 1])\n",
    "\n",
    "\n",
    "        # 2nd Plot showing the actual clusters formed\n",
    "        colors = cm.nipy_spectral(cluster_labels.astype(float) / n_clusters)\n",
    "        ax2.scatter(X[:, 0], X[:, 1], marker='.', s=30, lw=0, alpha=0.7,\n",
    "                    c=colors, edgecolor='k')\n",
    "\n",
    "        ax2.set_title(\"Visualization of the clustered data on 1st and 2nd PC\")\n",
    "        ax2.set_xlabel(\"Feature space for PC_1\")\n",
    "        ax2.set_ylabel(\"Feature space for PC_2\")\n",
    "\n",
    "        plt.suptitle((\"Silhouette analysis for KMeans clustering on sample data \"\n",
    "                      \"with n_clusters = %d\" % n_clusters),\n",
    "                     fontsize=14, fontweight='bold')\n",
    "\n",
    "    plt.show()\n",
    "    return silhouette_scores, wss"
   ]
  },
  {
   "cell_type": "code",
   "execution_count": 86,
   "metadata": {},
   "outputs": [],
   "source": [
    "# Function to plot WSS and Silhouette scores vs No. of clusters\n",
    "def make_plots(wss, silhouette_scores):\n",
    "    fig, (ax1,ax2) = plt.subplots(nrows=1, ncols=2, figsize=(14,4))\n",
    "    \n",
    "    ax1.plot(range(2, 11), wss, color='blue', linestyle='dashed', marker='o', markerfacecolor='red', markersize=8)\n",
    "    ax1.set_title('Elbow method- WSS vs k', size=13)\n",
    "    ax1.set_xlabel('Number of clusters (k)')\n",
    "    ax1.set_ylabel('Within Cluster Sum of Squares (WSS)') #within cluster sum of squares\n",
    "    \n",
    "    ax2.plot(range(2, 11), silhouette_scores, color='red', linestyle='dashed', marker='o', markerfacecolor='black', markersize=8)\n",
    "    ax2.set_title('Silhouette Scores vs k', size=13)\n",
    "    ax2.set_xlabel('Number of clusters (k)')\n",
    "    ax2.set_ylabel('Silhouette Coefficient')\n",
    "    \n",
    "    plt.suptitle(('Choosing k value for kmeans'),\n",
    "             fontsize=14, fontweight='bold')\n",
    "    plt.show()"
   ]
  },
  {
   "cell_type": "code",
   "execution_count": 87,
   "metadata": {},
   "outputs": [
    {
     "ename": "NameError",
     "evalue": "name 'PCA' is not defined",
     "output_type": "error",
     "traceback": [
      "\u001b[1;31m---------------------------------------------------------------------------\u001b[0m",
      "\u001b[1;31mNameError\u001b[0m                                 Traceback (most recent call last)",
      "\u001b[1;32m<ipython-input-87-edae0bbc6e25>\u001b[0m in \u001b[0;36m<module>\u001b[1;34m\u001b[0m\n\u001b[0;32m      1\u001b[0m \u001b[1;31m#b. Evaluate the model using Silhouette coefficient\u001b[0m\u001b[1;33m\u001b[0m\u001b[1;33m\u001b[0m\u001b[1;33m\u001b[0m\u001b[0m\n\u001b[1;32m----> 2\u001b[1;33m \u001b[0msilhouette_scores\u001b[0m\u001b[1;33m,\u001b[0m \u001b[0mwss\u001b[0m \u001b[1;33m=\u001b[0m \u001b[0mkmeans_analysis\u001b[0m\u001b[1;33m(\u001b[0m\u001b[0mdf_kmeans\u001b[0m\u001b[1;33m)\u001b[0m\u001b[1;33m\u001b[0m\u001b[1;33m\u001b[0m\u001b[0m\n\u001b[0m",
      "\u001b[1;32m<ipython-input-85-32a5fb914855>\u001b[0m in \u001b[0;36mkmeans_analysis\u001b[1;34m(df_kmeans, random_state)\u001b[0m\n\u001b[0;32m      8\u001b[0m \u001b[1;33m\u001b[0m\u001b[0m\n\u001b[0;32m      9\u001b[0m     \u001b[1;31m# Taking 2 Principal Components for the dataset for purpose of visualization\u001b[0m\u001b[1;33m\u001b[0m\u001b[1;33m\u001b[0m\u001b[1;33m\u001b[0m\u001b[0m\n\u001b[1;32m---> 10\u001b[1;33m     \u001b[0mpca\u001b[0m \u001b[1;33m=\u001b[0m \u001b[0mPCA\u001b[0m\u001b[1;33m(\u001b[0m\u001b[1;33m)\u001b[0m\u001b[1;33m.\u001b[0m\u001b[0mfit\u001b[0m\u001b[1;33m(\u001b[0m\u001b[0mdf_kmeans\u001b[0m\u001b[1;33m)\u001b[0m\u001b[1;33m\u001b[0m\u001b[1;33m\u001b[0m\u001b[0m\n\u001b[0m\u001b[0;32m     11\u001b[0m     \u001b[0mX\u001b[0m \u001b[1;33m=\u001b[0m \u001b[0mpca\u001b[0m\u001b[1;33m.\u001b[0m\u001b[0mfit_transform\u001b[0m\u001b[1;33m(\u001b[0m\u001b[0mdf_kmeans\u001b[0m\u001b[1;33m)\u001b[0m\u001b[1;33m\u001b[0m\u001b[1;33m\u001b[0m\u001b[0m\n\u001b[0;32m     12\u001b[0m \u001b[1;33m\u001b[0m\u001b[0m\n",
      "\u001b[1;31mNameError\u001b[0m: name 'PCA' is not defined"
     ]
    }
   ],
   "source": [
    "#b. Evaluate the model using Silhouette coefficient\n",
    "silhouette_scores, wss = kmeans_analysis(df_kmeans)"
   ]
  },
  {
   "cell_type": "code",
   "execution_count": 90,
   "metadata": {},
   "outputs": [
    {
     "ename": "NameError",
     "evalue": "name 'wss' is not defined",
     "output_type": "error",
     "traceback": [
      "\u001b[1;31m---------------------------------------------------------------------------\u001b[0m",
      "\u001b[1;31mNameError\u001b[0m                                 Traceback (most recent call last)",
      "\u001b[1;32m<ipython-input-90-992cf7d3c9e8>\u001b[0m in \u001b[0;36m<module>\u001b[1;34m\u001b[0m\n\u001b[0;32m      1\u001b[0m \u001b[1;31m#c. Plot an elbow plot to find the optimal value of k\u001b[0m\u001b[1;33m\u001b[0m\u001b[1;33m\u001b[0m\u001b[1;33m\u001b[0m\u001b[0m\n\u001b[1;32m----> 2\u001b[1;33m \u001b[0mmake_plots\u001b[0m\u001b[1;33m(\u001b[0m\u001b[0mwss\u001b[0m\u001b[1;33m,\u001b[0m \u001b[0msilhouette_scores\u001b[0m\u001b[1;33m)\u001b[0m\u001b[1;33m\u001b[0m\u001b[1;33m\u001b[0m\u001b[0m\n\u001b[0m",
      "\u001b[1;31mNameError\u001b[0m: name 'wss' is not defined"
     ]
    }
   ],
   "source": [
    "#c. Plot an elbow plot to find the optimal value of k\n",
    "make_plots(wss, silhouette_scores)"
   ]
  },
  {
   "cell_type": "code",
   "execution_count": 89,
   "metadata": {},
   "outputs": [],
   "source": [
    "#d. Which k value gives the best result?\n"
   ]
  },
  {
   "cell_type": "code",
   "execution_count": null,
   "metadata": {},
   "outputs": [],
   "source": [
    "#3. Apply PCA to the dataset and perform all steps from Q2 on the new features generated using PCA. (15\n",
    "#points)\n",
    "from sklearn.decomposition import PCA\n"
   ]
  },
  {
   "cell_type": "code",
   "execution_count": null,
   "metadata": {},
   "outputs": [],
   "source": [
    "cr_dummy.shape"
   ]
  },
  {
   "cell_type": "code",
   "execution_count": null,
   "metadata": {},
   "outputs": [],
   "source": [
    "\n",
    "#We have 17 features so our n_component will be 17.\n",
    "pc=PCA(n_components=17)\n",
    "cr_pca=pc.fit(cr_scaled)"
   ]
  },
  {
   "cell_type": "code",
   "execution_count": null,
   "metadata": {},
   "outputs": [],
   "source": [
    "#Lets check if we will take 17 component then how much varience it explain. Ideally it should be 1 i.e 100%\n",
    "sum(cr_pca.explained_variance_ratio_)"
   ]
  },
  {
   "cell_type": "code",
   "execution_count": null,
   "metadata": {},
   "outputs": [],
   "source": [
    "\n",
    "var_ratio={}\n",
    "for n in range(2,18):\n",
    "    pc=PCA(n_components=n)\n",
    "    cr_pca=pc.fit(cr_scaled)\n",
    "    var_ratio[n]=sum(cr_pca.explained_variance_ratio_)"
   ]
  },
  {
   "cell_type": "code",
   "execution_count": null,
   "metadata": {},
   "outputs": [],
   "source": [
    "\n",
    "var_ratio"
   ]
  },
  {
   "cell_type": "code",
   "execution_count": null,
   "metadata": {},
   "outputs": [],
   "source": [
    "#Since 6 components are explaining about 90% variance so we select 5 components\n",
    "\n",
    "pc=PCA(n_components=6)\n"
   ]
  },
  {
   "cell_type": "code",
   "execution_count": null,
   "metadata": {},
   "outputs": [],
   "source": [
    "p=pc.fit(cr_scaled)"
   ]
  },
  {
   "cell_type": "code",
   "execution_count": null,
   "metadata": {},
   "outputs": [],
   "source": [
    "cr_scaled.shape"
   ]
  },
  {
   "cell_type": "code",
   "execution_count": null,
   "metadata": {},
   "outputs": [],
   "source": [
    "p.explained_variance_"
   ]
  },
  {
   "cell_type": "code",
   "execution_count": null,
   "metadata": {},
   "outputs": [],
   "source": [
    "np.sum(p.explained_variance_)"
   ]
  },
  {
   "cell_type": "code",
   "execution_count": null,
   "metadata": {},
   "outputs": [],
   "source": [
    "np.sum(p.explained_variance_)"
   ]
  },
  {
   "cell_type": "code",
   "execution_count": null,
   "metadata": {},
   "outputs": [],
   "source": [
    "var_ratio"
   ]
  },
  {
   "cell_type": "code",
   "execution_count": null,
   "metadata": {},
   "outputs": [],
   "source": [
    "pd.Series(var_ratio).plot()"
   ]
  },
  {
   "cell_type": "code",
   "execution_count": null,
   "metadata": {},
   "outputs": [],
   "source": [
    "#Since 5 components are explaining about 87% variance so we select 5 components\n",
    "cr_scaled.shape"
   ]
  },
  {
   "cell_type": "code",
   "execution_count": null,
   "metadata": {},
   "outputs": [],
   "source": [
    "pc_final=PCA(n_components=6).fit(cr_scaled)\n",
    "\n",
    "reduced_cr=pc_final.fit_transform(cr_scaled)"
   ]
  },
  {
   "cell_type": "code",
   "execution_count": null,
   "metadata": {},
   "outputs": [],
   "source": [
    "\n",
    "dd=pd.DataFrame(reduced_cr)"
   ]
  },
  {
   "cell_type": "code",
   "execution_count": null,
   "metadata": {},
   "outputs": [],
   "source": [
    "dd.head()"
   ]
  },
  {
   "cell_type": "code",
   "execution_count": null,
   "metadata": {},
   "outputs": [],
   "source": [
    "#So initially we had 17 variables now its 5 so our variable go reduced\n",
    "dd.shape"
   ]
  },
  {
   "cell_type": "code",
   "execution_count": null,
   "metadata": {},
   "outputs": [],
   "source": [
    "col_list=cr_dummy.columns"
   ]
  },
  {
   "cell_type": "code",
   "execution_count": null,
   "metadata": {},
   "outputs": [],
   "source": [
    "col_list"
   ]
  },
  {
   "cell_type": "code",
   "execution_count": null,
   "metadata": {},
   "outputs": [],
   "source": [
    "pd.DataFrame(pc_final.components_.T, columns=['PC_' +str(i) for i in range(6)],index=col_list)"
   ]
  },
  {
   "cell_type": "code",
   "execution_count": null,
   "metadata": {},
   "outputs": [],
   "source": [
    "#So above data gave us eigen vector for each component we had all eigen vector value very small we can remove those variable bur in our case its not\n",
    "\n",
    "# Factor Analysis : variance explained by each component- \n",
    "pd.Series(pc_final.explained_variance_ratio_,index=['PC_'+ str(i) for i in range(6)])"
   ]
  },
  {
   "cell_type": "code",
   "execution_count": null,
   "metadata": {},
   "outputs": [],
   "source": [
    "#4. Create a new column as a cluster label in the original data frame and perform cluster analysis. Check the\n",
    "#correlation of cluster labels with various features and mention your inferences. (Hint - Does cluster 1\n",
    "#have a high credit limit?) (5 points)\n",
    "\n",
    "\n",
    "#Based on the intuition on type of purchases made by customers and their distinctive behavior exhibited based on the purchase_type (as visualized above in Insights from KPI) , I am starting with 4 clusters.\n",
    "from sklearn.cluster import KMeans"
   ]
  },
  {
   "cell_type": "code",
   "execution_count": null,
   "metadata": {},
   "outputs": [],
   "source": [
    "km_4=KMeans(n_clusters=4,random_state=123)"
   ]
  },
  {
   "cell_type": "code",
   "execution_count": null,
   "metadata": {},
   "outputs": [],
   "source": [
    "km_4.fit(reduced_cr)"
   ]
  },
  {
   "cell_type": "code",
   "execution_count": null,
   "metadata": {},
   "outputs": [],
   "source": [
    "km_4.labels_"
   ]
  },
  {
   "cell_type": "code",
   "execution_count": null,
   "metadata": {},
   "outputs": [],
   "source": [
    "pd.Series(km_4.labels_).value_counts()\n",
    "#Here we donot have known k value so we will find the K. To do that we need to take a cluster range between 1 and 21."
   ]
  },
  {
   "cell_type": "code",
   "execution_count": null,
   "metadata": {},
   "outputs": [],
   "source": [
    "#Identify cluster Error\n",
    "\n",
    "\n",
    "cluster_range = range( 1, 21 )\n",
    "cluster_errors = []\n",
    "\n",
    "for num_clusters in cluster_range:\n",
    "    clusters = KMeans( num_clusters )\n",
    "    clusters.fit( reduced_cr )\n",
    "    cluster_errors.append( clusters.inertia_ )# clusters.inertia_ is basically cluster error here."
   ]
  },
  {
   "cell_type": "code",
   "execution_count": null,
   "metadata": {},
   "outputs": [],
   "source": [
    "\n",
    "clusters_df = pd.DataFrame( { \"num_clusters\":cluster_range, \"cluster_errors\": cluster_errors } )\n",
    "\n",
    "clusters_df[0:21]"
   ]
  },
  {
   "cell_type": "code",
   "execution_count": null,
   "metadata": {},
   "outputs": [],
   "source": [
    "# allow plots to appear in the notebook\n",
    "%matplotlib inline\n",
    "import matplotlib.pyplot as plt\n",
    "plt.figure(figsize=(12,6))\n",
    "plt.plot( clusters_df.num_clusters, clusters_df.cluster_errors, marker = \"o\" )"
   ]
  },
  {
   "cell_type": "code",
   "execution_count": null,
   "metadata": {},
   "outputs": [],
   "source": []
  },
  {
   "cell_type": "code",
   "execution_count": null,
   "metadata": {},
   "outputs": [],
   "source": [
    "#5. Comment your findings and inferences and compare the performance. Does applying PCA give a better\n",
    "#result in comparison to earlier? (5 points)\n",
    "\n",
    "from sklearn.decomposition import PCA"
   ]
  },
  {
   "cell_type": "code",
   "execution_count": null,
   "metadata": {},
   "outputs": [],
   "source": [
    "cr_dummy.shape"
   ]
  },
  {
   "cell_type": "code",
   "execution_count": null,
   "metadata": {},
   "outputs": [],
   "source": [
    "#We have 17 features so our n_component will be 17.\n",
    "pc=PCA(n_components=17)\n",
    "cr_pca=pc.fit(cr_scaled)"
   ]
  },
  {
   "cell_type": "code",
   "execution_count": null,
   "metadata": {},
   "outputs": [],
   "source": [
    "#Lets check if we will take 17 component then how much varience it explain. Ideally it should be 1 i.e 100%\n",
    "sum(cr_pca.explained_variance_ratio_)"
   ]
  },
  {
   "cell_type": "code",
   "execution_count": null,
   "metadata": {},
   "outputs": [],
   "source": [
    "var_ratio={}\n",
    "for n in range(2,18):\n",
    "    pc=PCA(n_components=n)\n",
    "    cr_pca=pc.fit(cr_scaled)\n",
    "    var_ratio[n]=sum(cr_pca.explained_variance_ratio_)"
   ]
  },
  {
   "cell_type": "code",
   "execution_count": null,
   "metadata": {},
   "outputs": [],
   "source": [
    "var_ratio"
   ]
  },
  {
   "cell_type": "code",
   "execution_count": null,
   "metadata": {},
   "outputs": [],
   "source": [
    "pc=PCA(n_components=6)"
   ]
  },
  {
   "cell_type": "code",
   "execution_count": null,
   "metadata": {},
   "outputs": [],
   "source": []
  }
 ],
 "metadata": {
  "kernelspec": {
   "display_name": "Python 3",
   "language": "python",
   "name": "python3"
  },
  "language_info": {
   "codemirror_mode": {
    "name": "ipython",
    "version": 3
   },
   "file_extension": ".py",
   "mimetype": "text/x-python",
   "name": "python",
   "nbconvert_exporter": "python",
   "pygments_lexer": "ipython3",
   "version": "3.8.3"
  }
 },
 "nbformat": 4,
 "nbformat_minor": 4
}
